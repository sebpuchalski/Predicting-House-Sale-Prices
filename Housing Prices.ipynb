{
 "cells": [
  {
   "cell_type": "markdown",
   "metadata": {},
   "source": [
    "## ** Ames Housing Project **\n",
    "\n",
    "> In this project I will use a Linear Regression model to predict house sale price based on features describiling a house"
   ]
  },
  {
   "cell_type": "markdown",
   "metadata": {},
   "source": [
    "First I am importing libraries necessary for the analysis and am reading the data in:"
   ]
  },
  {
   "cell_type": "code",
   "execution_count": 1,
   "metadata": {
    "collapsed": false
   },
   "outputs": [
    {
     "data": {
      "text/plain": [
       "(2930, 82)"
      ]
     },
     "execution_count": 1,
     "metadata": {},
     "output_type": "execute_result"
    }
   ],
   "source": [
    "import pandas as pd\n",
    "import numpy as np\n",
    "import matplotlib.pyplot as plt\n",
    "from sklearn.linear_model import LinearRegression\n",
    "import seaborn as sns\n",
    "\n",
    "\n",
    "# Read the data\n",
    "data = pd.read_csv(\"AmesHousing.tsv\", delimiter = \"\\t\")\n",
    "data = data.fillna(data.mean())\n",
    "data.shape"
   ]
  },
  {
   "cell_type": "markdown",
   "metadata": {},
   "source": [
    "The first look at the data reveals that there are 2930 house entries with 82 columns. Let's take a closer look."
   ]
  },
  {
   "cell_type": "code",
   "execution_count": 2,
   "metadata": {
    "collapsed": false
   },
   "outputs": [
    {
     "name": "stdout",
     "output_type": "stream",
     "text": [
      "   Order        PID  MS SubClass MS Zoning  Lot Frontage  Lot Area Street  \\\n",
      "0      1  526301100           20        RL         141.0     31770   Pave   \n",
      "1      2  526350040           20        RH          80.0     11622   Pave   \n",
      "2      3  526351010           20        RL          81.0     14267   Pave   \n",
      "3      4  526353030           20        RL          93.0     11160   Pave   \n",
      "4      5  527105010           60        RL          74.0     13830   Pave   \n",
      "\n",
      "  Alley Lot Shape Land Contour    ...     Pool Area Pool QC  Fence  \\\n",
      "0   NaN       IR1          Lvl    ...             0     NaN    NaN   \n",
      "1   NaN       Reg          Lvl    ...             0     NaN  MnPrv   \n",
      "2   NaN       IR1          Lvl    ...             0     NaN    NaN   \n",
      "3   NaN       Reg          Lvl    ...             0     NaN    NaN   \n",
      "4   NaN       IR1          Lvl    ...             0     NaN  MnPrv   \n",
      "\n",
      "  Misc Feature Misc Val Mo Sold Yr Sold Sale Type  Sale Condition  SalePrice  \n",
      "0          NaN        0       5    2010       WD           Normal     215000  \n",
      "1          NaN        0       6    2010       WD           Normal     105000  \n",
      "2         Gar2    12500       6    2010       WD           Normal     172000  \n",
      "3          NaN        0       4    2010       WD           Normal     244000  \n",
      "4          NaN        0       3    2010       WD           Normal     189900  \n",
      "\n",
      "[5 rows x 82 columns]\n",
      "(2930, 82)\n"
     ]
    }
   ],
   "source": [
    "print(data.head(5))\n",
    "print(data.shape)"
   ]
  },
  {
   "cell_type": "code",
   "execution_count": 3,
   "metadata": {
    "collapsed": false
   },
   "outputs": [
    {
     "data": {
      "text/plain": [
       "Alley            2732\n",
       "Fireplace Qu     1422\n",
       "Garage Type       157\n",
       "Garage Finish     159\n",
       "Garage Qual       159\n",
       "Garage Cond       159\n",
       "Pool QC          2917\n",
       "Fence            2358\n",
       "Misc Feature     2824\n",
       "dtype: int64"
      ]
     },
     "execution_count": 3,
     "metadata": {},
     "output_type": "execute_result"
    }
   ],
   "source": [
    "null_data = data.isnull().sum()\n",
    "null_data = null_data[null_data>150]\n",
    "null_data"
   ]
  },
  {
   "cell_type": "markdown",
   "metadata": {},
   "source": [
    "* Seven columns miss more than 150 entries or 5.1% data\n",
    "* Columns Order and PDI are irrelevant to the analysis"
   ]
  },
  {
   "cell_type": "markdown",
   "metadata": {},
   "source": [
    "# Feature Engineering"
   ]
  },
  {
   "cell_type": "markdown",
   "metadata": {},
   "source": [
    "Remove features that miss more than 5% of the data and then remove rows that miss any entries:"
   ]
  },
  {
   "cell_type": "code",
   "execution_count": 4,
   "metadata": {
    "collapsed": false
   },
   "outputs": [
    {
     "data": {
      "text/plain": [
       "(2822, 73)"
      ]
     },
     "execution_count": 4,
     "metadata": {},
     "output_type": "execute_result"
    }
   ],
   "source": [
    "data_counts = data.isnull().sum()\n",
    "cols_to_keep = data_counts[data_counts<150].index.tolist()\n",
    "data = data[cols_to_keep]\n",
    "#drop any rows with missing values\n",
    "data = data.dropna(how = \"any\")\n",
    "data.shape"
   ]
  },
  {
   "cell_type": "markdown",
   "metadata": {},
   "source": [
    "The above data cleaning step removed unnecessary columns and additionally removed 8 rows of data due to missing values.\n",
    "_______"
   ]
  },
  {
   "cell_type": "markdown",
   "metadata": {},
   "source": [
    "At this point it is worth looking at the target variable to understand its distribution."
   ]
  },
  {
   "cell_type": "code",
   "execution_count": 5,
   "metadata": {
    "collapsed": false
   },
   "outputs": [
    {
     "data": {
      "image/png": "[encoded data removed]",
      "text/plain": [
       "<matplotlib.figure.Figure at 0x7fdde075ee80>"
      ]
     },
     "metadata": {},
     "output_type": "display_data"
    }
   ],
   "source": [
    "%matplotlib inline\n",
    "sns.distplot(data[\"SalePrice\"])\n",
    "plt.show()"
   ]
  },
  {
   "cell_type": "markdown",
   "metadata": {},
   "source": [
    "The Sale Price distribution is right skewed. Before running prediction models it is worth transforming the data so that the distribution is more normal. I will use the logarithmic transformation."
   ]
  },
  {
   "cell_type": "code",
   "execution_count": 6,
   "metadata": {
    "collapsed": false
   },
   "outputs": [
    {
     "data": {
      "image/png": "[encoded data removed]",
      "text/plain": [
       "<matplotlib.figure.Figure at 0x7fdd8c2f4ef0>"
      ]
     },
     "metadata": {},
     "output_type": "display_data"
    }
   ],
   "source": [
    "data[\"LogPrice\"] = np.log(data[\"SalePrice\"])\n",
    "sns.distplot(data[\"LogPrice\"])\n",
    "plt.show()"
   ]
  },
  {
   "cell_type": "markdown",
   "metadata": {},
   "source": [
    "__________"
   ]
  },
  {
   "cell_type": "markdown",
   "metadata": {},
   "source": [
    "Next I will work on looking further at the available features:"
   ]
  },
  {
   "cell_type": "markdown",
   "metadata": {},
   "source": [
    "# Select appropriate features"
   ]
  },
  {
   "cell_type": "markdown",
   "metadata": {},
   "source": [
    "SalePrice - the property's sale price in dollars. This is the target variable that you're trying to predict.\n",
    "\n",
    "## Categorical:\n",
    "\n",
    "* MSSubClass: The building class\n",
    "* MSZoning: The general zoning classification\n",
    "* Street: Type of road access\n",
    "* LotShape: General shape of property\n",
    "* Utilities: Type of utilities available\n",
    "* Functional: Home functionality rating\n",
    "* Fireplaces: Number of fireplaces\n",
    "* KitchenQual: Kitchen quality\n",
    "* MasVnrType: Masonry veneer type\n",
    "* BldgType: Type of dwelling\n",
    "* HouseStyle: Style of dwelling\n",
    "* GarageCars: Size of garage in car capacity\n",
    "* Kitchen: Number of kitchens\n",
    "* TotRmsAbvGrd: Total rooms above grade (does not include bathrooms)\n",
    "* RoofStyle: Type of roof\n",
    "* RoofMatl: Roof material\n",
    "* OverallQual: Overall material and finish quality\n",
    "* OverallCond: Overall condition rating\n",
    "* BsmtCond: General condition of the basement\n",
    "* BsmtExposure: Walkout or garden level basement walls\n",
    "* BsmtFinType1: Quality of basement finished area\n",
    "* Heating: Type of heating\n",
    "* HeatingQC: Heating quality and condition\n",
    "* CentralAir: Central air conditioning\n",
    "* PavedDrive: Paved driveway\n",
    "* SaleType: Type of sale\n",
    "* SaleCondition: Condition of sale\n",
    "* Electrical: Electrical system\n",
    "* ExterQual: Exterior material quality\n",
    "* BsmtFullBath: Basement full bathrooms\n",
    "* BsmtHalfBath: Basement half bathrooms\n",
    "* FullBath: Full bathrooms above grade\n",
    "* HalfBath: Half baths above grade\n",
    "* Bedroom: Number of bedrooms above basement level\n",
    "* LandContour: Flatness of the property\n",
    "* Exterior1st: Exterior covering on house\n",
    "* Exterior2nd: Exterior covering on house (if more than one material)\n",
    "* ExterCond: Present condition of the material on the exterior\n",
    "* Foundation: Type of foundation\n",
    "* BsmtQual: Height of the basement\n",
    "* LotConfig: Lot configuration\n",
    "* LandSlope: Slope of property\n",
    "* Neighborhood: Physical locations within Ames city limits\n",
    "* Condition1: Proximity to main road or railroad\n",
    "* Condition2: Proximity to main road or railroad (if a second is present)\n",
    "\n",
    "## Timewise:\n",
    "\n",
    "* YearBuilt: Original construction date\n",
    "* YearRemodAdd: Remodel date\n",
    "* MoSold: Month Sold\n",
    "* YrSold: Year Sold\n",
    "\n",
    "## Numerical:\n",
    "\n",
    "* LotArea: Lot size in square feet\n",
    "* BsmtFinSF1: Type 1 finished square feet\n",
    "* BsmtFinType2: Quality of second finished area (if present)\n",
    "* BsmtFinSF2: Type 2 finished square feet\n",
    "* BsmtUnfSF: Unfinished square feet of basement area\n",
    "* TotalBsmtSF: Total square feet of basement area\n",
    "* MasVnrArea: Masonry veneer area in square feet\n",
    "* 1stFlrSF: First Floor square feet\n",
    "* 2ndFlrSF: Second floor square feet\n",
    "* LowQualFinSF: Low quality finished square feet (all floors)\n",
    "* GrLivArea: Above grade (ground) living area square feet\n",
    "* GarageArea: Size of garage in square feet\n",
    "* WoodDeckSF: Wood deck area in square feet\n",
    "* OpenPorchSF: Open porch area in square feet\n",
    "* EnclosedPorch: Enclosed porch area in square feet\n",
    "* 3SsnPorch: Three season porch area in square feet\n",
    "* ScreenPorch: Screen porch area in square feet\n",
    "* PoolArea: Pool area in square feet\n",
    "* MiscVal: $Value of miscellaneous feature"
   ]
  },
  {
   "cell_type": "markdown",
   "metadata": {},
   "source": [
    "## Deal with numerical columns first"
   ]
  },
  {
   "cell_type": "markdown",
   "metadata": {},
   "source": [
    "First deal with the numerical columns. Select only columns that really make sense to be classified as numerical, i.e. are not time based or categorical in nature."
   ]
  },
  {
   "cell_type": "markdown",
   "metadata": {},
   "source": [
    "*    \"Lot Area\",\n",
    "*    \"Bsmt Unf SF\",\n",
    "*    \"Total Bsmt SF\",\n",
    "*    \"Mas Vnr Area\",\n",
    "*    \"1st Flr SF\",\n",
    "*    \"2nd Flr SF\",\n",
    "*    \"Low Qual Fin SF\",\n",
    "*    \"Gr Liv Area\",\n",
    "*    \"Garage Area\",\n",
    "*    \"Wood Deck SF\",\n",
    "*    \"Open Porch SF\",\n",
    "*    \"Enclosed Porch\",\n",
    "*    \"3Ssn Porch\",\n",
    "*    \"Screen Porch\",\n",
    "*    \"Pool Area\",\n",
    "*    \"Misc Val\",\n",
    "*    \"SalePrice\""
   ]
  },
  {
   "cell_type": "code",
   "execution_count": 7,
   "metadata": {
    "collapsed": false
   },
   "outputs": [
    {
     "data": {
      "text/plain": [
       "17"
      ]
     },
     "execution_count": 7,
     "metadata": {},
     "output_type": "execute_result"
    }
   ],
   "source": [
    "nums = [\"Lot Area\",\n",
    "    \"Bsmt Unf SF\",\n",
    "    \"Total Bsmt SF\",\n",
    "    \"Mas Vnr Area\",\n",
    "    \"1st Flr SF\",\n",
    "    \"2nd Flr SF\",\n",
    "    \"Low Qual Fin SF\",\n",
    "    \"Gr Liv Area\",\n",
    "    \"Garage Area\",\n",
    "    \"Wood Deck SF\",\n",
    "    \"Open Porch SF\",\n",
    "    \"Enclosed Porch\",\n",
    "    \"3Ssn Porch\",\n",
    "    \"Screen Porch\",\n",
    "    \"Pool Area\",\n",
    "    \"Misc Val\",\n",
    "    \"SalePrice\"]\n",
    "len(nums)"
   ]
  },
  {
   "cell_type": "code",
   "execution_count": 8,
   "metadata": {
    "collapsed": false
   },
   "outputs": [
    {
     "data": {
      "text/plain": [
       "<matplotlib.text.Text at 0x7fdd89c92f60>"
      ]
     },
     "execution_count": 8,
     "metadata": {},
     "output_type": "execute_result"
    },
    {
     "data": {
      "image/png": "[encoded data removed]",
      "text/plain": [
       "<matplotlib.figure.Figure at 0x7fdd8a0f2f60>"
      ]
     },
     "metadata": {},
     "output_type": "display_data"
    }
   ],
   "source": [
    "%matplotlib inline\n",
    "import numpy as np\n",
    "from numpy import arange\n",
    "\n",
    "fig = plt.figure(figsize=(15,20))\n",
    "#adjusting spacing\n",
    "plt.subplots_adjust(hspace = 0.5)\n",
    "\n",
    "ax1 = fig.add_subplot(9,2,1)\n",
    "ax2 = fig.add_subplot(9,2,2)\n",
    "ax3 = fig.add_subplot(9,2,3)\n",
    "ax4 = fig.add_subplot(9,2,4)\n",
    "ax5 = fig.add_subplot(9,2,5)\n",
    "ax6 = fig.add_subplot(9,2,6)\n",
    "ax7 = fig.add_subplot(9,2,7)\n",
    "ax8 = fig.add_subplot(9,2,8)\n",
    "ax9 = fig.add_subplot(9,2,9)\n",
    "ax10 = fig.add_subplot(9,2,10)\n",
    "ax11 = fig.add_subplot(9,2,11)\n",
    "ax12 = fig.add_subplot(9,2,12)\n",
    "ax13 = fig.add_subplot(9,2,13)\n",
    "ax14 = fig.add_subplot(9,2,14)\n",
    "ax15 = fig.add_subplot(9,2,15)\n",
    "ax16 = fig.add_subplot(9,2,16)\n",
    "ax17 = fig.add_subplot(9,2,17)\n",
    "\n",
    "\n",
    "ax1.hist(data[nums[0]], bins=20)\n",
    "ax1.set_title(nums[0])\n",
    "ax2.hist(data[nums[1]], bins=20)\n",
    "ax2.set_title(nums[1])\n",
    "ax3.hist(data[nums[2]], bins=20)\n",
    "ax3.set_title(nums[2])\n",
    "ax4.hist(data[nums[3]], bins=20)\n",
    "ax4.set_title(nums[3])\n",
    "ax5.hist(data[nums[4]], bins=20)\n",
    "ax5.set_title(nums[4])\n",
    "ax6.hist(data[nums[5]], bins=20)\n",
    "ax6.set_title(nums[5])\n",
    "ax7.hist(data[nums[6]], bins=20)\n",
    "ax7.set_title(nums[6])\n",
    "ax8.hist(data[nums[7]], bins=20)\n",
    "ax8.set_title(nums[7])\n",
    "ax9.hist(data[nums[8]], bins=20)\n",
    "ax9.set_title(nums[8])\n",
    "ax10.hist(data[nums[9]], bins=20)\n",
    "ax10.set_title(nums[9])\n",
    "ax11.hist(data[nums[10]], bins=20)\n",
    "ax11.set_title(nums[10])\n",
    "ax12.hist(data[nums[11]], bins=20)\n",
    "ax12.set_title(nums[11])\n",
    "ax13.hist(data[nums[12]], bins=20)\n",
    "ax13.set_title(nums[12])\n",
    "ax14.hist(data[nums[13]], bins=20)\n",
    "ax14.set_title(nums[13])\n",
    "ax15.hist(data[nums[14]], bins=20)\n",
    "ax15.set_title(nums[14])\n",
    "ax16.hist(data[nums[15]], bins=20)\n",
    "ax16.set_title(nums[15])\n",
    "ax17.hist(data[nums[16]], bins=20)\n",
    "ax17.set_title(nums[16])"
   ]
  },
  {
   "cell_type": "code",
   "execution_count": 9,
   "metadata": {
    "collapsed": false
   },
   "outputs": [],
   "source": [
    "from scipy.stats import boxcox\n",
    "\n",
    "for num in nums[:-1]:\n",
    "    data[num] = data[num].replace(0,0.1)\n",
    "    data[num]=boxcox(data[num],0.5)"
   ]
  },
  {
   "cell_type": "code",
   "execution_count": 10,
   "metadata": {
    "collapsed": false
   },
   "outputs": [
    {
     "data": {
      "text/plain": [
       "<matplotlib.text.Text at 0x7fdd894eca90>"
      ]
     },
     "execution_count": 10,
     "metadata": {},
     "output_type": "execute_result"
    },
    {
     "data": {
      "image/png": "[encoded data removed]",
      "text/plain": [
       "<matplotlib.figure.Figure at 0x7fdd88fa82b0>"
      ]
     },
     "metadata": {},
     "output_type": "display_data"
    }
   ],
   "source": [
    "%matplotlib inline\n",
    "import numpy as np\n",
    "from numpy import arange\n",
    "\n",
    "fig = plt.figure(figsize=(15,20))\n",
    "#adjusting spacing\n",
    "plt.subplots_adjust(hspace = 0.5)\n",
    "\n",
    "ax1 = fig.add_subplot(9,2,1)\n",
    "ax2 = fig.add_subplot(9,2,2)\n",
    "ax3 = fig.add_subplot(9,2,3)\n",
    "ax4 = fig.add_subplot(9,2,4)\n",
    "ax5 = fig.add_subplot(9,2,5)\n",
    "ax6 = fig.add_subplot(9,2,6)\n",
    "ax7 = fig.add_subplot(9,2,7)\n",
    "ax8 = fig.add_subplot(9,2,8)\n",
    "ax9 = fig.add_subplot(9,2,9)\n",
    "ax10 = fig.add_subplot(9,2,10)\n",
    "ax11 = fig.add_subplot(9,2,11)\n",
    "ax12 = fig.add_subplot(9,2,12)\n",
    "ax13 = fig.add_subplot(9,2,13)\n",
    "ax14 = fig.add_subplot(9,2,14)\n",
    "ax15 = fig.add_subplot(9,2,15)\n",
    "ax16 = fig.add_subplot(9,2,16)\n",
    "ax17 = fig.add_subplot(9,2,17)\n",
    "\n",
    "\n",
    "ax1.hist(data[nums[0]], bins=20)\n",
    "ax1.set_title(nums[0])\n",
    "ax2.hist(data[nums[1]], bins=20)\n",
    "ax2.set_title(nums[1])\n",
    "ax3.hist(data[nums[2]], bins=20)\n",
    "ax3.set_title(nums[2])\n",
    "ax4.hist(data[nums[3]], bins=20)\n",
    "ax4.set_title(nums[3])\n",
    "ax5.hist(data[nums[4]], bins=20)\n",
    "ax5.set_title(nums[4])\n",
    "ax6.hist(data[nums[5]], bins=20)\n",
    "ax6.set_title(nums[5])\n",
    "ax7.hist(data[nums[6]], bins=20)\n",
    "ax7.set_title(nums[6])\n",
    "ax8.hist(data[nums[7]], bins=20)\n",
    "ax8.set_title(nums[7])\n",
    "ax9.hist(data[nums[8]], bins=20)\n",
    "ax9.set_title(nums[8])\n",
    "ax10.hist(data[nums[9]], bins=20)\n",
    "ax10.set_title(nums[9])\n",
    "ax11.hist(data[nums[10]], bins=20)\n",
    "ax11.set_title(nums[10])\n",
    "ax12.hist(data[nums[11]], bins=20)\n",
    "ax12.set_title(nums[11])\n",
    "ax13.hist(data[nums[12]], bins=20)\n",
    "ax13.set_title(nums[12])\n",
    "ax14.hist(data[nums[13]], bins=20)\n",
    "ax14.set_title(nums[13])\n",
    "ax15.hist(data[nums[14]], bins=20)\n",
    "ax15.set_title(nums[14])\n",
    "ax16.hist(data[nums[15]], bins=20)\n",
    "ax16.set_title(nums[15])\n",
    "ax17.hist(data[nums[16]], bins=20)\n",
    "ax17.set_title(nums[16])"
   ]
  },
  {
   "cell_type": "code",
   "execution_count": null,
   "metadata": {
    "collapsed": true
   },
   "outputs": [],
   "source": []
  },
  {
   "cell_type": "code",
   "execution_count": null,
   "metadata": {
    "collapsed": true
   },
   "outputs": [],
   "source": []
  },
  {
   "cell_type": "code",
   "execution_count": null,
   "metadata": {
    "collapsed": true
   },
   "outputs": [],
   "source": []
  },
  {
   "cell_type": "code",
   "execution_count": 11,
   "metadata": {
    "collapsed": false
   },
   "outputs": [],
   "source": [
    "def numerical_cols(data, cutoff):\n",
    "\n",
    "    '''Selects columns based on correlation coefficient cutoff'''\n",
    "    '''Will select any column with correlation to the target above the cuttoff'''\n",
    "    '''The function also fills mising values'''\n",
    "    '''Will return specified columns, but not include the target column'''\n",
    "    \n",
    "    #select columns that are numerical and make sense as such\n",
    "    nums = [\"Lot Area\",\n",
    "    \"Bsmt Unf SF\",\n",
    "    \"Total Bsmt SF\",\n",
    "    \"Mas Vnr Area\",\n",
    "    \"1st Flr SF\",\n",
    "    \"2nd Flr SF\",\n",
    "    \"Low Qual Fin SF\",\n",
    "    \"Gr Liv Area\",\n",
    "    \"Garage Area\",\n",
    "    \"Wood Deck SF\",\n",
    "    \"Open Porch SF\",\n",
    "    \"Enclosed Porch\",\n",
    "    \"3Ssn Porch\",\n",
    "    \"Screen Porch\",\n",
    "    \"Pool Area\",\n",
    "    \"Misc Val\",\n",
    "    \"SalePrice\"]\n",
    "\n",
    "    num_cols = data[nums]\n",
    "\n",
    "    #impute missing data\n",
    "    num_cols = num_cols.fillna(num_cols.mean())\n",
    "\n",
    "    #Running correlations\n",
    "    corrs = num_cols.corr()\n",
    "    sorted_corrs = corrs[\"SalePrice\"].abs().sort_values(ascending = False)\n",
    "\n",
    "    lista = sorted_corrs[sorted_corrs>cutoff].index.tolist()\n",
    "    return num_cols[lista[1:]]\n"
   ]
  },
  {
   "cell_type": "code",
   "execution_count": 12,
   "metadata": {
    "collapsed": false
   },
   "outputs": [
    {
     "data": {
      "text/html": [
       "<div>\n",
       "<style scoped>\n",
       "    .dataframe tbody tr th:only-of-type {\n",
       "        vertical-align: middle;\n",
       "    }\n",
       "\n",
       "    .dataframe tbody tr th {\n",
       "        vertical-align: top;\n",
       "    }\n",
       "\n",
       "    .dataframe thead th {\n",
       "        text-align: right;\n",
       "    }\n",
       "</style>\n",
       "<table border=\"1\" class=\"dataframe\">\n",
       "  <thead>\n",
       "    <tr style=\"text-align: right;\">\n",
       "      <th></th>\n",
       "      <th>Gr Liv Area</th>\n",
       "      <th>1st Flr SF</th>\n",
       "      <th>Total Bsmt SF</th>\n",
       "      <th>Garage Area</th>\n",
       "      <th>Mas Vnr Area</th>\n",
       "    </tr>\n",
       "  </thead>\n",
       "  <tbody>\n",
       "    <tr>\n",
       "      <th>0</th>\n",
       "      <td>79.387960</td>\n",
       "      <td>79.387960</td>\n",
       "      <td>63.726707</td>\n",
       "      <td>43.956501</td>\n",
       "      <td>19.166010</td>\n",
       "    </tr>\n",
       "    <tr>\n",
       "      <th>1</th>\n",
       "      <td>57.866518</td>\n",
       "      <td>57.866518</td>\n",
       "      <td>57.396970</td>\n",
       "      <td>52.037024</td>\n",
       "      <td>-1.367544</td>\n",
       "    </tr>\n",
       "    <tr>\n",
       "      <th>2</th>\n",
       "      <td>70.910905</td>\n",
       "      <td>70.910905</td>\n",
       "      <td>70.910905</td>\n",
       "      <td>33.327043</td>\n",
       "      <td>18.784610</td>\n",
       "    </tr>\n",
       "    <tr>\n",
       "      <th>3</th>\n",
       "      <td>89.869473</td>\n",
       "      <td>89.869473</td>\n",
       "      <td>89.869473</td>\n",
       "      <td>43.694639</td>\n",
       "      <td>-1.367544</td>\n",
       "    </tr>\n",
       "    <tr>\n",
       "      <th>4</th>\n",
       "      <td>78.721744</td>\n",
       "      <td>58.926185</td>\n",
       "      <td>58.926185</td>\n",
       "      <td>41.908997</td>\n",
       "      <td>-1.367544</td>\n",
       "    </tr>\n",
       "    <tr>\n",
       "      <th>5</th>\n",
       "      <td>78.099938</td>\n",
       "      <td>58.860496</td>\n",
       "      <td>58.860496</td>\n",
       "      <td>41.358967</td>\n",
       "      <td>6.944272</td>\n",
       "    </tr>\n",
       "    <tr>\n",
       "      <th>6</th>\n",
       "      <td>71.157365</td>\n",
       "      <td>71.157365</td>\n",
       "      <td>71.157365</td>\n",
       "      <td>46.249352</td>\n",
       "      <td>-1.367544</td>\n",
       "    </tr>\n",
       "    <tr>\n",
       "      <th>7</th>\n",
       "      <td>69.554175</td>\n",
       "      <td>69.554175</td>\n",
       "      <td>69.554175</td>\n",
       "      <td>42.988888</td>\n",
       "      <td>-1.367544</td>\n",
       "    </tr>\n",
       "    <tr>\n",
       "      <th>8</th>\n",
       "      <td>78.399005</td>\n",
       "      <td>78.399005</td>\n",
       "      <td>77.874902</td>\n",
       "      <td>47.315312</td>\n",
       "      <td>-1.367544</td>\n",
       "    </tr>\n",
       "    <tr>\n",
       "      <th>9</th>\n",
       "      <td>82.947042</td>\n",
       "      <td>62.124878</td>\n",
       "      <td>61.055531</td>\n",
       "      <td>40.047592</td>\n",
       "      <td>-1.367544</td>\n",
       "    </tr>\n",
       "    <tr>\n",
       "      <th>10</th>\n",
       "      <td>79.363382</td>\n",
       "      <td>53.244909</td>\n",
       "      <td>53.244909</td>\n",
       "      <td>39.952354</td>\n",
       "      <td>-1.367544</td>\n",
       "    </tr>\n",
       "    <tr>\n",
       "      <th>11</th>\n",
       "      <td>66.905733</td>\n",
       "      <td>66.905733</td>\n",
       "      <td>66.352030</td>\n",
       "      <td>38.987803</td>\n",
       "      <td>-1.367544</td>\n",
       "    </tr>\n",
       "    <tr>\n",
       "      <th>12</th>\n",
       "      <td>74.550637</td>\n",
       "      <td>54.178288</td>\n",
       "      <td>54.178288</td>\n",
       "      <td>37.648455</td>\n",
       "      <td>-1.367544</td>\n",
       "    </tr>\n",
       "    <tr>\n",
       "      <th>13</th>\n",
       "      <td>71.239334</td>\n",
       "      <td>71.239334</td>\n",
       "      <td>70.111026</td>\n",
       "      <td>42.988888</td>\n",
       "      <td>-1.367544</td>\n",
       "    </tr>\n",
       "    <tr>\n",
       "      <th>14</th>\n",
       "      <td>75.511290</td>\n",
       "      <td>75.511290</td>\n",
       "      <td>75.149206</td>\n",
       "      <td>43.956501</td>\n",
       "      <td>-1.367544</td>\n",
       "    </tr>\n",
       "    <tr>\n",
       "      <th>15</th>\n",
       "      <td>112.525106</td>\n",
       "      <td>80.219219</td>\n",
       "      <td>79.240384</td>\n",
       "      <td>56.000000</td>\n",
       "      <td>47.112117</td>\n",
       "    </tr>\n",
       "    <tr>\n",
       "      <th>16</th>\n",
       "      <td>81.713798</td>\n",
       "      <td>63.726707</td>\n",
       "      <td>45.286362</td>\n",
       "      <td>42.362146</td>\n",
       "      <td>-1.367544</td>\n",
       "    </tr>\n",
       "    <tr>\n",
       "      <th>17</th>\n",
       "      <td>84.162637</td>\n",
       "      <td>84.162637</td>\n",
       "      <td>84.162637</td>\n",
       "      <td>55.758116</td>\n",
       "      <td>35.416574</td>\n",
       "    </tr>\n",
       "    <tr>\n",
       "      <th>18</th>\n",
       "      <td>56.787754</td>\n",
       "      <td>56.787754</td>\n",
       "      <td>56.787754</td>\n",
       "      <td>38.000000</td>\n",
       "      <td>-1.367544</td>\n",
       "    </tr>\n",
       "    <tr>\n",
       "      <th>19</th>\n",
       "      <td>89.060420</td>\n",
       "      <td>89.060420</td>\n",
       "      <td>76.536616</td>\n",
       "      <td>42.721360</td>\n",
       "      <td>19.817424</td>\n",
       "    </tr>\n",
       "    <tr>\n",
       "      <th>20</th>\n",
       "      <td>83.883642</td>\n",
       "      <td>83.883642</td>\n",
       "      <td>83.883642</td>\n",
       "      <td>44.733286</td>\n",
       "      <td>41.817805</td>\n",
       "    </tr>\n",
       "    <tr>\n",
       "      <th>21</th>\n",
       "      <td>66.498175</td>\n",
       "      <td>66.498175</td>\n",
       "      <td>62.899923</td>\n",
       "      <td>43.956501</td>\n",
       "      <td>16.000000</td>\n",
       "    </tr>\n",
       "    <tr>\n",
       "      <th>22</th>\n",
       "      <td>79.829090</td>\n",
       "      <td>55.061370</td>\n",
       "      <td>55.061370</td>\n",
       "      <td>49.497573</td>\n",
       "      <td>-1.367544</td>\n",
       "    </tr>\n",
       "    <tr>\n",
       "      <th>23</th>\n",
       "      <td>61.371918</td>\n",
       "      <td>61.371918</td>\n",
       "      <td>61.371918</td>\n",
       "      <td>41.817805</td>\n",
       "      <td>24.832816</td>\n",
       "    </tr>\n",
       "    <tr>\n",
       "      <th>24</th>\n",
       "      <td>63.665821</td>\n",
       "      <td>63.665821</td>\n",
       "      <td>63.665821</td>\n",
       "      <td>42.721360</td>\n",
       "      <td>-1.367544</td>\n",
       "    </tr>\n",
       "    <tr>\n",
       "      <th>25</th>\n",
       "      <td>62.992307</td>\n",
       "      <td>62.992307</td>\n",
       "      <td>62.992307</td>\n",
       "      <td>32.871192</td>\n",
       "      <td>-1.367544</td>\n",
       "    </tr>\n",
       "    <tr>\n",
       "      <th>26</th>\n",
       "      <td>57.396970</td>\n",
       "      <td>57.396970</td>\n",
       "      <td>57.396970</td>\n",
       "      <td>43.825757</td>\n",
       "      <td>-1.367544</td>\n",
       "    </tr>\n",
       "    <tr>\n",
       "      <th>27</th>\n",
       "      <td>56.787754</td>\n",
       "      <td>56.787754</td>\n",
       "      <td>56.787754</td>\n",
       "      <td>-1.367544</td>\n",
       "      <td>-1.367544</td>\n",
       "    </tr>\n",
       "    <tr>\n",
       "      <th>28</th>\n",
       "      <td>71.130021</td>\n",
       "      <td>71.130021</td>\n",
       "      <td>72.966659</td>\n",
       "      <td>43.210618</td>\n",
       "      <td>-1.367544</td>\n",
       "    </tr>\n",
       "    <tr>\n",
       "      <th>29</th>\n",
       "      <td>60.833112</td>\n",
       "      <td>41.954522</td>\n",
       "      <td>41.954522</td>\n",
       "      <td>30.496154</td>\n",
       "      <td>42.899889</td>\n",
       "    </tr>\n",
       "    <tr>\n",
       "      <th>...</th>\n",
       "      <td>...</td>\n",
       "      <td>...</td>\n",
       "      <td>...</td>\n",
       "      <td>...</td>\n",
       "      <td>...</td>\n",
       "    </tr>\n",
       "    <tr>\n",
       "      <th>2899</th>\n",
       "      <td>82.852814</td>\n",
       "      <td>82.852814</td>\n",
       "      <td>82.852814</td>\n",
       "      <td>53.317267</td>\n",
       "      <td>48.199602</td>\n",
       "    </tr>\n",
       "    <tr>\n",
       "      <th>2900</th>\n",
       "      <td>86.543774</td>\n",
       "      <td>86.543774</td>\n",
       "      <td>81.138439</td>\n",
       "      <td>51.441557</td>\n",
       "      <td>26.142495</td>\n",
       "    </tr>\n",
       "    <tr>\n",
       "      <th>2901</th>\n",
       "      <td>88.066642</td>\n",
       "      <td>88.066642</td>\n",
       "      <td>84.440731</td>\n",
       "      <td>57.329588</td>\n",
       "      <td>26.844410</td>\n",
       "    </tr>\n",
       "    <tr>\n",
       "      <th>2902</th>\n",
       "      <td>83.743804</td>\n",
       "      <td>83.743804</td>\n",
       "      <td>83.743804</td>\n",
       "      <td>50.230259</td>\n",
       "      <td>37.089641</td>\n",
       "    </tr>\n",
       "    <tr>\n",
       "      <th>2904</th>\n",
       "      <td>71.972968</td>\n",
       "      <td>71.972968</td>\n",
       "      <td>69.777434</td>\n",
       "      <td>54.000000</td>\n",
       "      <td>26.284271</td>\n",
       "    </tr>\n",
       "    <tr>\n",
       "      <th>2905</th>\n",
       "      <td>67.742383</td>\n",
       "      <td>67.742383</td>\n",
       "      <td>67.742383</td>\n",
       "      <td>38.099875</td>\n",
       "      <td>19.540659</td>\n",
       "    </tr>\n",
       "    <tr>\n",
       "      <th>2906</th>\n",
       "      <td>71.130021</td>\n",
       "      <td>71.130021</td>\n",
       "      <td>68.342022</td>\n",
       "      <td>38.249224</td>\n",
       "      <td>40.095130</td>\n",
       "    </tr>\n",
       "    <tr>\n",
       "      <th>2907</th>\n",
       "      <td>65.527772</td>\n",
       "      <td>65.527772</td>\n",
       "      <td>65.527772</td>\n",
       "      <td>-1.367544</td>\n",
       "      <td>-1.367544</td>\n",
       "    </tr>\n",
       "    <tr>\n",
       "      <th>2908</th>\n",
       "      <td>70.221880</td>\n",
       "      <td>47.638695</td>\n",
       "      <td>30.496154</td>\n",
       "      <td>34.660606</td>\n",
       "      <td>-1.367544</td>\n",
       "    </tr>\n",
       "    <tr>\n",
       "      <th>2909</th>\n",
       "      <td>74.811457</td>\n",
       "      <td>58.827625</td>\n",
       "      <td>53.027266</td>\n",
       "      <td>34.660606</td>\n",
       "      <td>-1.367544</td>\n",
       "    </tr>\n",
       "    <tr>\n",
       "      <th>2910</th>\n",
       "      <td>98.419122</td>\n",
       "      <td>69.860977</td>\n",
       "      <td>59.384037</td>\n",
       "      <td>46.000000</td>\n",
       "      <td>-1.367544</td>\n",
       "    </tr>\n",
       "    <tr>\n",
       "      <th>2911</th>\n",
       "      <td>57.126982</td>\n",
       "      <td>57.126982</td>\n",
       "      <td>56.787754</td>\n",
       "      <td>31.941125</td>\n",
       "      <td>-1.367544</td>\n",
       "    </tr>\n",
       "    <tr>\n",
       "      <th>2912</th>\n",
       "      <td>79.289606</td>\n",
       "      <td>79.289606</td>\n",
       "      <td>79.289606</td>\n",
       "      <td>58.926185</td>\n",
       "      <td>-1.367544</td>\n",
       "    </tr>\n",
       "    <tr>\n",
       "      <th>2913</th>\n",
       "      <td>48.199602</td>\n",
       "      <td>48.199602</td>\n",
       "      <td>48.199602</td>\n",
       "      <td>-1.367544</td>\n",
       "      <td>-1.367544</td>\n",
       "    </tr>\n",
       "    <tr>\n",
       "      <th>2914</th>\n",
       "      <td>64.090847</td>\n",
       "      <td>44.733286</td>\n",
       "      <td>44.733286</td>\n",
       "      <td>29.811947</td>\n",
       "      <td>-1.367544</td>\n",
       "    </tr>\n",
       "    <tr>\n",
       "      <th>2915</th>\n",
       "      <td>71.756356</td>\n",
       "      <td>71.756356</td>\n",
       "      <td>64.452991</td>\n",
       "      <td>34.660606</td>\n",
       "      <td>25.856777</td>\n",
       "    </tr>\n",
       "    <tr>\n",
       "      <th>2916</th>\n",
       "      <td>48.199602</td>\n",
       "      <td>48.199602</td>\n",
       "      <td>48.199602</td>\n",
       "      <td>-1.367544</td>\n",
       "      <td>-1.367544</td>\n",
       "    </tr>\n",
       "    <tr>\n",
       "      <th>2917</th>\n",
       "      <td>64.090847</td>\n",
       "      <td>44.733286</td>\n",
       "      <td>44.733286</td>\n",
       "      <td>31.823069</td>\n",
       "      <td>-1.367544</td>\n",
       "    </tr>\n",
       "    <tr>\n",
       "      <th>2918</th>\n",
       "      <td>64.090847</td>\n",
       "      <td>44.733286</td>\n",
       "      <td>44.733286</td>\n",
       "      <td>-1.367544</td>\n",
       "      <td>-1.367544</td>\n",
       "    </tr>\n",
       "    <tr>\n",
       "      <th>2919</th>\n",
       "      <td>64.090847</td>\n",
       "      <td>44.733286</td>\n",
       "      <td>44.733286</td>\n",
       "      <td>-1.367544</td>\n",
       "      <td>-1.367544</td>\n",
       "    </tr>\n",
       "    <tr>\n",
       "      <th>2920</th>\n",
       "      <td>64.090847</td>\n",
       "      <td>44.733286</td>\n",
       "      <td>44.733286</td>\n",
       "      <td>31.823069</td>\n",
       "      <td>-1.367544</td>\n",
       "    </tr>\n",
       "    <tr>\n",
       "      <th>2921</th>\n",
       "      <td>81.138439</td>\n",
       "      <td>81.138439</td>\n",
       "      <td>81.138439</td>\n",
       "      <td>45.916594</td>\n",
       "      <td>-1.367544</td>\n",
       "    </tr>\n",
       "    <tr>\n",
       "      <th>2922</th>\n",
       "      <td>81.138439</td>\n",
       "      <td>81.138439</td>\n",
       "      <td>81.138439</td>\n",
       "      <td>45.328638</td>\n",
       "      <td>-1.367544</td>\n",
       "    </tr>\n",
       "    <tr>\n",
       "      <th>2923</th>\n",
       "      <td>65.111847</td>\n",
       "      <td>65.111847</td>\n",
       "      <td>65.111847</td>\n",
       "      <td>42.000000</td>\n",
       "      <td>-1.367544</td>\n",
       "    </tr>\n",
       "    <tr>\n",
       "      <th>2924</th>\n",
       "      <td>67.971423</td>\n",
       "      <td>67.971423</td>\n",
       "      <td>67.971423</td>\n",
       "      <td>46.000000</td>\n",
       "      <td>-1.367544</td>\n",
       "    </tr>\n",
       "    <tr>\n",
       "      <th>2925</th>\n",
       "      <td>61.340350</td>\n",
       "      <td>61.340350</td>\n",
       "      <td>61.340350</td>\n",
       "      <td>46.497423</td>\n",
       "      <td>-1.367544</td>\n",
       "    </tr>\n",
       "    <tr>\n",
       "      <th>2926</th>\n",
       "      <td>58.066630</td>\n",
       "      <td>58.066630</td>\n",
       "      <td>56.787754</td>\n",
       "      <td>42.000000</td>\n",
       "      <td>-1.367544</td>\n",
       "    </tr>\n",
       "    <tr>\n",
       "      <th>2927</th>\n",
       "      <td>60.289646</td>\n",
       "      <td>60.289646</td>\n",
       "      <td>58.398675</td>\n",
       "      <td>-1.367544</td>\n",
       "      <td>-1.367544</td>\n",
       "    </tr>\n",
       "    <tr>\n",
       "      <th>2928</th>\n",
       "      <td>72.538581</td>\n",
       "      <td>72.538581</td>\n",
       "      <td>72.538581</td>\n",
       "      <td>38.890097</td>\n",
       "      <td>-1.367544</td>\n",
       "    </tr>\n",
       "    <tr>\n",
       "      <th>2929</th>\n",
       "      <td>87.442719</td>\n",
       "      <td>61.118935</td>\n",
       "      <td>61.118935</td>\n",
       "      <td>48.990195</td>\n",
       "      <td>17.390719</td>\n",
       "    </tr>\n",
       "  </tbody>\n",
       "</table>\n",
       "<p>2822 rows × 5 columns</p>\n",
       "</div>"
      ],
      "text/plain": [
       "      Gr Liv Area  1st Flr SF  Total Bsmt SF  Garage Area  Mas Vnr Area\n",
       "0       79.387960   79.387960      63.726707    43.956501     19.166010\n",
       "1       57.866518   57.866518      57.396970    52.037024     -1.367544\n",
       "2       70.910905   70.910905      70.910905    33.327043     18.784610\n",
       "3       89.869473   89.869473      89.869473    43.694639     -1.367544\n",
       "4       78.721744   58.926185      58.926185    41.908997     -1.367544\n",
       "5       78.099938   58.860496      58.860496    41.358967      6.944272\n",
       "6       71.157365   71.157365      71.157365    46.249352     -1.367544\n",
       "7       69.554175   69.554175      69.554175    42.988888     -1.367544\n",
       "8       78.399005   78.399005      77.874902    47.315312     -1.367544\n",
       "9       82.947042   62.124878      61.055531    40.047592     -1.367544\n",
       "10      79.363382   53.244909      53.244909    39.952354     -1.367544\n",
       "11      66.905733   66.905733      66.352030    38.987803     -1.367544\n",
       "12      74.550637   54.178288      54.178288    37.648455     -1.367544\n",
       "13      71.239334   71.239334      70.111026    42.988888     -1.367544\n",
       "14      75.511290   75.511290      75.149206    43.956501     -1.367544\n",
       "15     112.525106   80.219219      79.240384    56.000000     47.112117\n",
       "16      81.713798   63.726707      45.286362    42.362146     -1.367544\n",
       "17      84.162637   84.162637      84.162637    55.758116     35.416574\n",
       "18      56.787754   56.787754      56.787754    38.000000     -1.367544\n",
       "19      89.060420   89.060420      76.536616    42.721360     19.817424\n",
       "20      83.883642   83.883642      83.883642    44.733286     41.817805\n",
       "21      66.498175   66.498175      62.899923    43.956501     16.000000\n",
       "22      79.829090   55.061370      55.061370    49.497573     -1.367544\n",
       "23      61.371918   61.371918      61.371918    41.817805     24.832816\n",
       "24      63.665821   63.665821      63.665821    42.721360     -1.367544\n",
       "25      62.992307   62.992307      62.992307    32.871192     -1.367544\n",
       "26      57.396970   57.396970      57.396970    43.825757     -1.367544\n",
       "27      56.787754   56.787754      56.787754    -1.367544     -1.367544\n",
       "28      71.130021   71.130021      72.966659    43.210618     -1.367544\n",
       "29      60.833112   41.954522      41.954522    30.496154     42.899889\n",
       "...           ...         ...            ...          ...           ...\n",
       "2899    82.852814   82.852814      82.852814    53.317267     48.199602\n",
       "2900    86.543774   86.543774      81.138439    51.441557     26.142495\n",
       "2901    88.066642   88.066642      84.440731    57.329588     26.844410\n",
       "2902    83.743804   83.743804      83.743804    50.230259     37.089641\n",
       "2904    71.972968   71.972968      69.777434    54.000000     26.284271\n",
       "2905    67.742383   67.742383      67.742383    38.099875     19.540659\n",
       "2906    71.130021   71.130021      68.342022    38.249224     40.095130\n",
       "2907    65.527772   65.527772      65.527772    -1.367544     -1.367544\n",
       "2908    70.221880   47.638695      30.496154    34.660606     -1.367544\n",
       "2909    74.811457   58.827625      53.027266    34.660606     -1.367544\n",
       "2910    98.419122   69.860977      59.384037    46.000000     -1.367544\n",
       "2911    57.126982   57.126982      56.787754    31.941125     -1.367544\n",
       "2912    79.289606   79.289606      79.289606    58.926185     -1.367544\n",
       "2913    48.199602   48.199602      48.199602    -1.367544     -1.367544\n",
       "2914    64.090847   44.733286      44.733286    29.811947     -1.367544\n",
       "2915    71.756356   71.756356      64.452991    34.660606     25.856777\n",
       "2916    48.199602   48.199602      48.199602    -1.367544     -1.367544\n",
       "2917    64.090847   44.733286      44.733286    31.823069     -1.367544\n",
       "2918    64.090847   44.733286      44.733286    -1.367544     -1.367544\n",
       "2919    64.090847   44.733286      44.733286    -1.367544     -1.367544\n",
       "2920    64.090847   44.733286      44.733286    31.823069     -1.367544\n",
       "2921    81.138439   81.138439      81.138439    45.916594     -1.367544\n",
       "2922    81.138439   81.138439      81.138439    45.328638     -1.367544\n",
       "2923    65.111847   65.111847      65.111847    42.000000     -1.367544\n",
       "2924    67.971423   67.971423      67.971423    46.000000     -1.367544\n",
       "2925    61.340350   61.340350      61.340350    46.497423     -1.367544\n",
       "2926    58.066630   58.066630      56.787754    42.000000     -1.367544\n",
       "2927    60.289646   60.289646      58.398675    -1.367544     -1.367544\n",
       "2928    72.538581   72.538581      72.538581    38.890097     -1.367544\n",
       "2929    87.442719   61.118935      61.118935    48.990195     17.390719\n",
       "\n",
       "[2822 rows x 5 columns]"
      ]
     },
     "execution_count": 12,
     "metadata": {},
     "output_type": "execute_result"
    }
   ],
   "source": [
    "numerical_cols(data, 0.4)"
   ]
  },
  {
   "cell_type": "markdown",
   "metadata": {},
   "source": [
    "# Checking the regression results"
   ]
  },
  {
   "cell_type": "code",
   "execution_count": 13,
   "metadata": {
    "collapsed": true
   },
   "outputs": [],
   "source": [
    "d1=numerical_cols(data, 0.5)\n",
    "d2=data[[\"LogPrice\"]]\n",
    "\n",
    "\n",
    "def cross_validation(features, target):\n",
    "    \n",
    "    #combine features and target\n",
    "    df = pd.concat([features, target], axis=1)\n",
    "    \n",
    "    cols = features.columns.tolist()\n",
    "    tar = target.columns.tolist()\n",
    "   \n",
    "    x = df[cols]\n",
    "    y = df[tar]\n",
    "    \n",
    "    from sklearn.model_selection import cross_val_score, KFold\n",
    "    \n",
    "    kf= KFold(5, shuffle = True, random_state =1)\n",
    "    \n",
    "    lr = LinearRegression()\n",
    "    \n",
    "    mses = cross_val_score(lr, x, y, scoring = \"neg_mean_squared_error\", cv =kf)\n",
    "    \n",
    "    rmses =np.sqrt(np.absolute(mses))\n",
    "    avg_rmse = np.mean(rmses)\n",
    "\n",
    "    \n",
    "    return avg_rmse"
   ]
  },
  {
   "cell_type": "code",
   "execution_count": 14,
   "metadata": {
    "collapsed": false
   },
   "outputs": [
    {
     "name": "stdout",
     "output_type": "stream",
     "text": [
      "[0.2770920089198229, 0.2424792000745028, 0.22113164874768682, 0.21826752645356748, 0.21017884022952277, 0.21017884022952277, 0.20597309091122346]\n"
     ]
    }
   ],
   "source": [
    "lista = [0.7,0.6,0.5,0.4,0.3,0.2,0.1]\n",
    "l = []\n",
    "for item in lista:\n",
    "    x = cross_validation(numerical_cols(data, item), data[[\"LogPrice\"]])\n",
    "    l.append(x)\n",
    "print(l)"
   ]
  },
  {
   "cell_type": "markdown",
   "metadata": {},
   "source": [
    "0.5 is a good cutoff"
   ]
  },
  {
   "cell_type": "code",
   "execution_count": 15,
   "metadata": {
    "collapsed": true
   },
   "outputs": [],
   "source": [
    "def numerical_cols_rescaled(data, cutoff):\n",
    "\n",
    "    '''Selects columns based on correlation coefficient cutoff'''\n",
    "    '''Will select any column with correlation to the target above the cuttoff'''\n",
    "    '''The function also fills mising values'''\n",
    "    '''Will return specified columns, but not include the target column'''\n",
    "    \n",
    "    #select columns that are numerical and make sense as such\n",
    "    nums = [\"Lot Area\",\n",
    "    \"Bsmt Unf SF\",\n",
    "    \"Total Bsmt SF\",\n",
    "    \"Mas Vnr Area\",\n",
    "    \"1st Flr SF\",\n",
    "    \"2nd Flr SF\",\n",
    "    \"Low Qual Fin SF\",\n",
    "    \"Gr Liv Area\",\n",
    "    \"Garage Area\",\n",
    "    \"Wood Deck SF\",\n",
    "    \"Open Porch SF\",\n",
    "    \"Enclosed Porch\",\n",
    "    \"3Ssn Porch\",\n",
    "    \"Screen Porch\",\n",
    "    \"Pool Area\",\n",
    "    \"Misc Val\",\n",
    "    \"SalePrice\"]\n",
    "\n",
    "    num_cols = data[nums]\n",
    "\n",
    "    #impute missing data\n",
    "    num_cols = num_cols.fillna(num_cols.mean())\n",
    "    num_cols = abs((num_cols - num_cols.max())/(num_cols.max()-num_cols.min()))\n",
    "\n",
    "    #Running correlations\n",
    "    corrs = num_cols.corr()\n",
    "    sorted_corrs = corrs[\"SalePrice\"].abs().sort_values(ascending = False)\n",
    "\n",
    "    lista = sorted_corrs[sorted_corrs>cutoff].index.tolist()\n",
    "    return num_cols[lista[1:]]"
   ]
  },
  {
   "cell_type": "code",
   "execution_count": 16,
   "metadata": {
    "collapsed": false
   },
   "outputs": [
    {
     "name": "stdout",
     "output_type": "stream",
     "text": [
      "[0.27709200891982294, 0.2424792000745028, 0.22113164874768682, 0.21826752645356748, 0.21017884022952277, 0.21017884022952277, 0.2059730909112234]\n"
     ]
    }
   ],
   "source": [
    "lista = [0.7,0.6,0.5,0.4,0.3,0.2,0.1]\n",
    "l = []\n",
    "for item in lista:\n",
    "    x = cross_validation(numerical_cols_rescaled(data, item), data[[\"LogPrice\"]])\n",
    "    l.append(x)\n",
    "print(l)"
   ]
  },
  {
   "cell_type": "markdown",
   "metadata": {},
   "source": [
    "Note that rescaling of the features to fit between 1 and 0 did not improve RMSE"
   ]
  },
  {
   "cell_type": "markdown",
   "metadata": {},
   "source": [
    "# Deal with categorical columns second"
   ]
  },
  {
   "cell_type": "code",
   "execution_count": 17,
   "metadata": {
    "collapsed": true
   },
   "outputs": [],
   "source": [
    "categorical = ['MS SubClass',\n",
    " 'MS Zoning',\n",
    " 'Street', \n",
    " 'Lot Shape', \n",
    " 'Land Contour',\n",
    " 'Utilities', \n",
    " 'Lot Config', \n",
    " 'Land Slope', \n",
    " 'Neighborhood', \n",
    " 'Condition 1', \n",
    " 'Condition 2', \n",
    " 'Bldg Type', \n",
    " 'House Style',\n",
    " 'Overall Qual',\n",
    " 'Overall Cond',\n",
    " 'Roof Style',\n",
    " 'Roof Matl',\n",
    " 'Exterior 1st',\n",
    " 'Exterior 2nd',\n",
    " 'Mas Vnr Type',\n",
    " 'Exter Qual',\n",
    " 'Exter Cond',\n",
    " 'Foundation',\n",
    " 'Bsmt Qual',\n",
    " 'Bsmt Cond',\n",
    " 'Bsmt Exposure',\n",
    " 'BsmtFin Type 1',\n",
    " 'Heating',\n",
    " 'Heating QC',\n",
    " 'Central Air',\n",
    " 'Electrical',\n",
    " 'Bsmt Full Bath',\n",
    " 'Bsmt Half Bath',\n",
    " 'Full Bath',\n",
    " 'Half Bath',\n",
    " 'Bedroom AbvGr',\n",
    " 'Kitchen AbvGr',\n",
    " 'Kitchen Qual',\n",
    " 'TotRms AbvGrd',\n",
    " 'Functional',\n",
    " 'Fireplaces',\n",
    " 'Garage Cars',\n",
    " 'Paved Drive',\n",
    " 'Sale Type',\n",
    " 'Sale Condition']"
   ]
  },
  {
   "cell_type": "markdown",
   "metadata": {
    "collapsed": true
   },
   "source": [
    "# Work using ANOVA to determina significance of categorical data"
   ]
  },
  {
   "cell_type": "markdown",
   "metadata": {},
   "source": [
    "For purpose of determining the significance of the categorical columns, I will use the ANOVA analysis, since the outcome variable is continuous.\n",
    "\n",
    "Example:"
   ]
  },
  {
   "cell_type": "code",
   "execution_count": 18,
   "metadata": {
    "collapsed": false
   },
   "outputs": [
    {
     "data": {
      "text/plain": [
       "Qual         0\n",
       "SalePrice    0\n",
       "dtype: int64"
      ]
     },
     "execution_count": 18,
     "metadata": {},
     "output_type": "execute_result"
    }
   ],
   "source": [
    "categ = data[['Overall Qual','SalePrice']]\n",
    "#the ANOVA model used does not accept column names with spaces.\n",
    "categ = categ.rename(columns = {\"Overall Qual\" : \"Qual\"})\n",
    "#check for null values\n",
    "categ.isnull().sum()"
   ]
  },
  {
   "cell_type": "code",
   "execution_count": 19,
   "metadata": {
    "collapsed": false
   },
   "outputs": [
    {
     "data": {
      "text/html": [
       "<table class=\"simpletable\">\n",
       "<caption>OLS Regression Results</caption>\n",
       "<tr>\n",
       "  <th>Dep. Variable:</th>        <td>SalePrice</td>    <th>  R-squared:         </th> <td>   0.696</td> \n",
       "</tr>\n",
       "<tr>\n",
       "  <th>Model:</th>                   <td>OLS</td>       <th>  Adj. R-squared:    </th> <td>   0.695</td> \n",
       "</tr>\n",
       "<tr>\n",
       "  <th>Method:</th>             <td>Least Squares</td>  <th>  F-statistic:       </th> <td>   715.6</td> \n",
       "</tr>\n",
       "<tr>\n",
       "  <th>Date:</th>             <td>Mon, 22 Apr 2019</td> <th>  Prob (F-statistic):</th>  <td>  0.00</td>  \n",
       "</tr>\n",
       "<tr>\n",
       "  <th>Time:</th>                 <td>18:44:41</td>     <th>  Log-Likelihood:    </th> <td> -34173.</td> \n",
       "</tr>\n",
       "<tr>\n",
       "  <th>No. Observations:</th>      <td>  2822</td>      <th>  AIC:               </th> <td>6.837e+04</td>\n",
       "</tr>\n",
       "<tr>\n",
       "  <th>Df Residuals:</th>          <td>  2812</td>      <th>  BIC:               </th> <td>6.843e+04</td>\n",
       "</tr>\n",
       "<tr>\n",
       "  <th>Df Model:</th>              <td>     9</td>      <th>                     </th>     <td> </td>    \n",
       "</tr>\n",
       "<tr>\n",
       "  <th>Covariance Type:</th>      <td>nonrobust</td>    <th>                     </th>     <td> </td>    \n",
       "</tr>\n",
       "</table>\n",
       "<table class=\"simpletable\">\n",
       "<tr>\n",
       "        <td></td>           <th>coef</th>     <th>std err</th>      <th>t</th>      <th>P>|t|</th>  <th>[0.025</th>    <th>0.975]</th>  \n",
       "</tr>\n",
       "<tr>\n",
       "  <th>Intercept</th>     <td>   6.1e+04</td> <td>  4.4e+04</td> <td>    1.386</td> <td> 0.166</td> <td>-2.53e+04</td> <td> 1.47e+05</td>\n",
       "</tr>\n",
       "<tr>\n",
       "  <th>C(Qual)[T.2]</th>  <td>-1.149e+04</td> <td> 4.64e+04</td> <td>   -0.248</td> <td> 0.804</td> <td>-1.02e+05</td> <td> 7.95e+04</td>\n",
       "</tr>\n",
       "<tr>\n",
       "  <th>C(Qual)[T.3]</th>  <td> 1.938e+04</td> <td> 4.48e+04</td> <td>    0.433</td> <td> 0.665</td> <td>-6.84e+04</td> <td> 1.07e+05</td>\n",
       "</tr>\n",
       "<tr>\n",
       "  <th>C(Qual)[T.4]</th>  <td> 4.685e+04</td> <td> 4.41e+04</td> <td>    1.061</td> <td> 0.289</td> <td>-3.97e+04</td> <td> 1.33e+05</td>\n",
       "</tr>\n",
       "<tr>\n",
       "  <th>C(Qual)[T.5]</th>  <td>  7.41e+04</td> <td> 4.41e+04</td> <td>    1.682</td> <td> 0.093</td> <td>-1.23e+04</td> <td>  1.6e+05</td>\n",
       "</tr>\n",
       "<tr>\n",
       "  <th>C(Qual)[T.6]</th>  <td> 1.012e+05</td> <td> 4.41e+04</td> <td>    2.297</td> <td> 0.022</td> <td> 1.48e+04</td> <td> 1.88e+05</td>\n",
       "</tr>\n",
       "<tr>\n",
       "  <th>C(Qual)[T.7]</th>  <td> 1.442e+05</td> <td> 4.41e+04</td> <td>    3.273</td> <td> 0.001</td> <td> 5.78e+04</td> <td> 2.31e+05</td>\n",
       "</tr>\n",
       "<tr>\n",
       "  <th>C(Qual)[T.8]</th>  <td> 2.099e+05</td> <td> 4.41e+04</td> <td>    4.761</td> <td> 0.000</td> <td> 1.23e+05</td> <td> 2.96e+05</td>\n",
       "</tr>\n",
       "<tr>\n",
       "  <th>C(Qual)[T.9]</th>  <td> 3.073e+05</td> <td> 4.42e+04</td> <td>    6.949</td> <td> 0.000</td> <td> 2.21e+05</td> <td> 3.94e+05</td>\n",
       "</tr>\n",
       "<tr>\n",
       "  <th>C(Qual)[T.10]</th> <td> 3.887e+05</td> <td> 4.48e+04</td> <td>    8.687</td> <td> 0.000</td> <td> 3.01e+05</td> <td> 4.76e+05</td>\n",
       "</tr>\n",
       "</table>\n",
       "<table class=\"simpletable\">\n",
       "<tr>\n",
       "  <th>Omnibus:</th>       <td>548.201</td> <th>  Durbin-Watson:     </th> <td>   1.455</td>\n",
       "</tr>\n",
       "<tr>\n",
       "  <th>Prob(Omnibus):</th> <td> 0.000</td>  <th>  Jarque-Bera (JB):  </th> <td>4216.829</td>\n",
       "</tr>\n",
       "<tr>\n",
       "  <th>Skew:</th>          <td> 0.706</td>  <th>  Prob(JB):          </th> <td>    0.00</td>\n",
       "</tr>\n",
       "<tr>\n",
       "  <th>Kurtosis:</th>      <td> 8.820</td>  <th>  Cond. No.          </th> <td>    185.</td>\n",
       "</tr>\n",
       "</table>"
      ],
      "text/plain": [
       "<class 'statsmodels.iolib.summary.Summary'>\n",
       "\"\"\"\n",
       "                            OLS Regression Results                            \n",
       "==============================================================================\n",
       "Dep. Variable:              SalePrice   R-squared:                       0.696\n",
       "Model:                            OLS   Adj. R-squared:                  0.695\n",
       "Method:                 Least Squares   F-statistic:                     715.6\n",
       "Date:                Mon, 22 Apr 2019   Prob (F-statistic):               0.00\n",
       "Time:                        18:44:41   Log-Likelihood:                -34173.\n",
       "No. Observations:                2822   AIC:                         6.837e+04\n",
       "Df Residuals:                    2812   BIC:                         6.843e+04\n",
       "Df Model:                           9                                         \n",
       "Covariance Type:            nonrobust                                         \n",
       "=================================================================================\n",
       "                    coef    std err          t      P>|t|      [0.025      0.975]\n",
       "---------------------------------------------------------------------------------\n",
       "Intercept        6.1e+04    4.4e+04      1.386      0.166   -2.53e+04    1.47e+05\n",
       "C(Qual)[T.2]  -1.149e+04   4.64e+04     -0.248      0.804   -1.02e+05    7.95e+04\n",
       "C(Qual)[T.3]   1.938e+04   4.48e+04      0.433      0.665   -6.84e+04    1.07e+05\n",
       "C(Qual)[T.4]   4.685e+04   4.41e+04      1.061      0.289   -3.97e+04    1.33e+05\n",
       "C(Qual)[T.5]    7.41e+04   4.41e+04      1.682      0.093   -1.23e+04     1.6e+05\n",
       "C(Qual)[T.6]   1.012e+05   4.41e+04      2.297      0.022    1.48e+04    1.88e+05\n",
       "C(Qual)[T.7]   1.442e+05   4.41e+04      3.273      0.001    5.78e+04    2.31e+05\n",
       "C(Qual)[T.8]   2.099e+05   4.41e+04      4.761      0.000    1.23e+05    2.96e+05\n",
       "C(Qual)[T.9]   3.073e+05   4.42e+04      6.949      0.000    2.21e+05    3.94e+05\n",
       "C(Qual)[T.10]  3.887e+05   4.48e+04      8.687      0.000    3.01e+05    4.76e+05\n",
       "==============================================================================\n",
       "Omnibus:                      548.201   Durbin-Watson:                   1.455\n",
       "Prob(Omnibus):                  0.000   Jarque-Bera (JB):             4216.829\n",
       "Skew:                           0.706   Prob(JB):                         0.00\n",
       "Kurtosis:                       8.820   Cond. No.                         185.\n",
       "==============================================================================\n",
       "\n",
       "Warnings:\n",
       "[1] Standard Errors assume that the covariance matrix of the errors is correctly specified.\n",
       "\"\"\""
      ]
     },
     "execution_count": 19,
     "metadata": {},
     "output_type": "execute_result"
    }
   ],
   "source": [
    "from statsmodels.formula.api import ols\n",
    "results = ols('SalePrice ~ C(Qual)', data = categ).fit()\n",
    "results.summary()"
   ]
  },
  {
   "cell_type": "code",
   "execution_count": 20,
   "metadata": {
    "collapsed": false
   },
   "outputs": [
    {
     "data": {
      "text/plain": [
       "0.6960854981640696"
      ]
     },
     "execution_count": 20,
     "metadata": {},
     "output_type": "execute_result"
    }
   ],
   "source": [
    "results.rsquared"
   ]
  },
  {
   "cell_type": "code",
   "execution_count": 21,
   "metadata": {
    "collapsed": false
   },
   "outputs": [
    {
     "data": {
      "text/plain": [
       "Intercept         61000.000000\n",
       "C(Qual)[T.2]     -11488.888889\n",
       "C(Qual)[T.3]      19381.666667\n",
       "C(Qual)[T.4]      46845.522388\n",
       "C(Qual)[T.5]      74101.996207\n",
       "C(Qual)[T.6]     101167.950345\n",
       "C(Qual)[T.7]     144218.336735\n",
       "C(Qual)[T.8]     209902.917647\n",
       "C(Qual)[T.9]     307336.766355\n",
       "C(Qual)[T.10]    388724.566667\n",
       "dtype: float64"
      ]
     },
     "execution_count": 21,
     "metadata": {},
     "output_type": "execute_result"
    }
   ],
   "source": [
    "results.params"
   ]
  },
  {
   "cell_type": "code",
   "execution_count": 22,
   "metadata": {
    "collapsed": false
   },
   "outputs": [
    {
     "name": "stderr",
     "output_type": "stream",
     "text": [
      "/dataquest/system/env/python3/lib/python3.4/importlib/_bootstrap.py:321: FutureWarning: The pandas.core.datetools module is deprecated and will be removed in a future version. Please use the pandas.tseries module instead.\n",
      "  return f(*args, **kwds)\n"
     ]
    },
    {
     "data": {
      "text/html": [
       "<div>\n",
       "<style scoped>\n",
       "    .dataframe tbody tr th:only-of-type {\n",
       "        vertical-align: middle;\n",
       "    }\n",
       "\n",
       "    .dataframe tbody tr th {\n",
       "        vertical-align: top;\n",
       "    }\n",
       "\n",
       "    .dataframe thead th {\n",
       "        text-align: right;\n",
       "    }\n",
       "</style>\n",
       "<table border=\"1\" class=\"dataframe\">\n",
       "  <thead>\n",
       "    <tr style=\"text-align: right;\">\n",
       "      <th></th>\n",
       "      <th>sum_sq</th>\n",
       "      <th>df</th>\n",
       "      <th>F</th>\n",
       "      <th>PR(&gt;F)</th>\n",
       "    </tr>\n",
       "  </thead>\n",
       "  <tbody>\n",
       "    <tr>\n",
       "      <th>C(Qual)</th>\n",
       "      <td>1.248188e+13</td>\n",
       "      <td>9.0</td>\n",
       "      <td>715.622471</td>\n",
       "      <td>0.0</td>\n",
       "    </tr>\n",
       "    <tr>\n",
       "      <th>Residual</th>\n",
       "      <td>5.449653e+12</td>\n",
       "      <td>2812.0</td>\n",
       "      <td>NaN</td>\n",
       "      <td>NaN</td>\n",
       "    </tr>\n",
       "  </tbody>\n",
       "</table>\n",
       "</div>"
      ],
      "text/plain": [
       "                sum_sq      df           F  PR(>F)\n",
       "C(Qual)   1.248188e+13     9.0  715.622471     0.0\n",
       "Residual  5.449653e+12  2812.0         NaN     NaN"
      ]
     },
     "execution_count": 22,
     "metadata": {},
     "output_type": "execute_result"
    }
   ],
   "source": [
    "import statsmodels.api as sm\n",
    "\n",
    "aov_table = sm.stats.anova_lm(results, typ=2)\n",
    "aov_table"
   ]
  },
  {
   "cell_type": "markdown",
   "metadata": {},
   "source": [
    "Let’s break down this ANOVA table. The Qual row is the between groups effect which is the overall experimental effect. The sum of squares for the model (SSM; value 1.31E13 in the table) is how much variance is explained by our model. The current model explains a significant amount of variance, F(9,2920)= 765, p < 0.05. The residual row is the unsystematic variation in the data (SSR; also called the unexplained variance; value 5.56E12in the table). In this case, the unsystematic variation represents the natural individual differences."
   ]
  },
  {
   "cell_type": "code",
   "execution_count": 23,
   "metadata": {
    "collapsed": false
   },
   "outputs": [
    {
     "name": "stdout",
     "output_type": "stream",
     "text": [
      "(2822, 46)\n"
     ]
    }
   ],
   "source": [
    "# Create a dataframe with just the categorical columns and the target columns:\n",
    "\n",
    "df_cat = pd.DataFrame()\n",
    "\n",
    "for cat in categorical:\n",
    "    categ = data[cat]\n",
    "    df_cat = pd.concat([df_cat, categ], axis =1)\n",
    "\n",
    "df_cat = pd.concat([df_cat, data[\"LogPrice\"]], axis =1) \n",
    "\n",
    "#drop null\n",
    "df_cat = df_cat.dropna(how=\"any\")\n",
    "    \n",
    "print(df_cat.shape)"
   ]
  },
  {
   "cell_type": "code",
   "execution_count": 24,
   "metadata": {
    "collapsed": false
   },
   "outputs": [],
   "source": [
    "# Since the ANOVA function used does not allow for column names to have spaces, I will remove the spaces from the names:\n",
    "\n",
    "#create a dictionary with cleaned names\n",
    "categorical2 = df_cat.columns.tolist()\n",
    "l=[]\n",
    "for cat in categorical2:\n",
    "    \n",
    "    a = cat.replace(\" \",\"\")\n",
    "    l.append(a)\n",
    "\n",
    "dic = {}\n",
    "\n",
    "for x, cat in zip(l, categorical2):\n",
    "    dic[cat] = x  \n",
    "\n",
    "    \n",
    "#Use the dictionary to rename the columns    \n",
    "df_cat = df_cat.rename(columns = dic)\n",
    "\n",
    "#Create a list of column names:\n",
    "categ = df_cat.columns.tolist()[:-1]"
   ]
  },
  {
   "cell_type": "code",
   "execution_count": 25,
   "metadata": {
    "collapsed": true
   },
   "outputs": [],
   "source": [
    "def categcheck(data, categ, significance):\n",
    "    from statsmodels.formula.api import ols\n",
    "    \n",
    "    li={}\n",
    "    pa={}\n",
    "    for cat in categ:\n",
    "        #create a new dataframe:\n",
    "        da = data[[cat,'LogPrice']]\n",
    "        #rename column by position\n",
    "        da = da.rename(columns={ da.columns[0]: \"X\" })\n",
    "        results = ols('LogPrice ~ C(X)', data = da).fit()\n",
    "        r = results.rsquared\n",
    "        p = results.params\n",
    "        if r > significance:\n",
    "            li[cat]=r\n",
    "            pa[cat]=p\n",
    "        else:\n",
    "            continue\n",
    "        \n",
    "    return li"
   ]
  },
  {
   "cell_type": "code",
   "execution_count": 26,
   "metadata": {
    "collapsed": false
   },
   "outputs": [
    {
     "data": {
      "text/plain": [
       "{'BsmtQual': 0.4750696890697904,\n",
       " 'ExterQual': 0.4636267976054067,\n",
       " 'GarageCars': 0.5007120313121296,\n",
       " 'KitchenQual': 0.44207699202515693,\n",
       " 'Neighborhood': 0.5865266023819163,\n",
       " 'OverallQual': 0.6800544372909036}"
      ]
     },
     "execution_count": 26,
     "metadata": {},
     "output_type": "execute_result"
    }
   ],
   "source": [
    "categcheck(df_cat, categ, 0.4)"
   ]
  },
  {
   "cell_type": "markdown",
   "metadata": {},
   "source": [
    "It appears that with the significance level of 0.5 only 4 categorical variables are important. I will choose them for further analysis."
   ]
  },
  {
   "cell_type": "markdown",
   "metadata": {},
   "source": [
    "## One Hot Encode Significant Categorical Columns"
   ]
  },
  {
   "cell_type": "code",
   "execution_count": 27,
   "metadata": {
    "collapsed": false
   },
   "outputs": [
    {
     "name": "stdout",
     "output_type": "stream",
     "text": [
      "['ExterQual', 'OverallQual', 'GarageCars', 'KitchenQual', 'Neighborhood', 'BsmtQual']\n"
     ]
    }
   ],
   "source": [
    "a = categcheck(df_cat, categ, 0.4)\n",
    "\n",
    "categorical = []\n",
    "for key, value in a.items():\n",
    "    categorical.append(key)\n",
    "print(categorical)    "
   ]
  },
  {
   "cell_type": "code",
   "execution_count": 28,
   "metadata": {
    "collapsed": false
   },
   "outputs": [
    {
     "data": {
      "text/plain": [
       "['Exter Qual',\n",
       " 'Overall Qual',\n",
       " 'Garage Cars',\n",
       " 'Kitchen Qual',\n",
       " 'Neighborhood',\n",
       " 'Bsmt Qual']"
      ]
     },
     "execution_count": 28,
     "metadata": {},
     "output_type": "execute_result"
    }
   ],
   "source": [
    "#Insert the spaces back into column names:\n",
    "\n",
    "import re\n",
    "\n",
    "lista = []\n",
    "for category in categorical:\n",
    "    new = re.sub(r\"(\\w)([A-Z])\", r\"\\1 \\2\", category)\n",
    "    lista.append(new)\n",
    "categorical = lista\n",
    "\n",
    "categorical"
   ]
  },
  {
   "cell_type": "code",
   "execution_count": 29,
   "metadata": {
    "collapsed": false
   },
   "outputs": [],
   "source": [
    "#Do one hot encoding\n",
    "categorical_cols = pd.DataFrame()\n",
    "\n",
    "for cat in categorical:\n",
    "    dummy = pd.get_dummies(data[cat], drop_first = True)\n",
    "    categorical_cols = pd.concat([categorical_cols, dummy], axis =1)"
   ]
  },
  {
   "cell_type": "code",
   "execution_count": 30,
   "metadata": {
    "collapsed": false
   },
   "outputs": [
    {
     "data": {
      "text/plain": [
       "['Fa',\n",
       " 'Gd',\n",
       " 'TA',\n",
       " 2,\n",
       " 3,\n",
       " 4,\n",
       " 5,\n",
       " 6,\n",
       " 7,\n",
       " 8,\n",
       " 9,\n",
       " 10,\n",
       " 1.0,\n",
       " 1.7668146124957322,\n",
       " 2.0,\n",
       " 3.0,\n",
       " 4.0,\n",
       " 5.0,\n",
       " 'Fa',\n",
       " 'Gd',\n",
       " 'Po',\n",
       " 'TA',\n",
       " 'Blueste',\n",
       " 'BrDale',\n",
       " 'BrkSide',\n",
       " 'ClearCr',\n",
       " 'CollgCr',\n",
       " 'Crawfor',\n",
       " 'Edwards',\n",
       " 'Gilbert',\n",
       " 'Greens',\n",
       " 'GrnHill',\n",
       " 'IDOTRR',\n",
       " 'Landmrk',\n",
       " 'MeadowV',\n",
       " 'Mitchel',\n",
       " 'NAmes',\n",
       " 'NPkVill',\n",
       " 'NWAmes',\n",
       " 'NoRidge',\n",
       " 'NridgHt',\n",
       " 'OldTown',\n",
       " 'SWISU',\n",
       " 'Sawyer',\n",
       " 'SawyerW',\n",
       " 'Somerst',\n",
       " 'StoneBr',\n",
       " 'Timber',\n",
       " 'Veenker',\n",
       " 'Fa',\n",
       " 'Gd',\n",
       " 'Po',\n",
       " 'TA']"
      ]
     },
     "execution_count": 30,
     "metadata": {},
     "output_type": "execute_result"
    }
   ],
   "source": [
    "categorical_cols.columns.tolist()"
   ]
  },
  {
   "cell_type": "markdown",
   "metadata": {},
   "source": [
    "# Checking the model with numerical and categorical variables"
   ]
  },
  {
   "cell_type": "code",
   "execution_count": 31,
   "metadata": {
    "collapsed": false
   },
   "outputs": [
    {
     "data": {
      "text/plain": [
       "0.15038304234212446"
      ]
     },
     "execution_count": 31,
     "metadata": {},
     "output_type": "execute_result"
    }
   ],
   "source": [
    "all_cols = pd.concat([categorical_cols, numerical_cols(data, 0.5)], axis = 1)\n",
    "d2=data[[\"LogPrice\"]]\n",
    "\n",
    "cross_validation(all_cols, d2)"
   ]
  },
  {
   "cell_type": "markdown",
   "metadata": {
    "collapsed": false
   },
   "source": [
    "# Working with time based features"
   ]
  },
  {
   "cell_type": "markdown",
   "metadata": {
    "collapsed": true
   },
   "source": [
    "## Timewise:\n",
    "\n",
    "* YearBuilt: Original construction date\n",
    "* YearRemodAdd: Remodel date\n",
    "* MoSold: Month Sold\n",
    "* YrSold: Year Sold"
   ]
  },
  {
   "cell_type": "markdown",
   "metadata": {},
   "source": [
    "A useful variable to look at would be the age of the house at the time it was sold. This number can be easily derived having the year built and year sold data available.\n",
    "\n",
    "There is a visible relationship between the sale price and the age of a house."
   ]
  },
  {
   "cell_type": "code",
   "execution_count": 32,
   "metadata": {
    "collapsed": false
   },
   "outputs": [
    {
     "data": {
      "image/png": "[encoded data removed]",
      "text/plain": [
       "<matplotlib.figure.Figure at 0x7fdd896d0160>"
      ]
     },
     "metadata": {},
     "output_type": "display_data"
    }
   ],
   "source": [
    "# convert features to age at sale\n",
    "data[\"AgeAtSale\"]=data[\"Yr Sold\"]-data[\"Year Built\"]\n",
    "\n",
    "%matplotlib inline\n",
    "plt.scatter(data[\"AgeAtSale\"],data[\"LogPrice\"])\n",
    "plt.show()"
   ]
  },
  {
   "cell_type": "markdown",
   "metadata": {},
   "source": [
    "There appears to be a similar but much weaker trend in terms of years since a house was last remodeled:"
   ]
  },
  {
   "cell_type": "code",
   "execution_count": 33,
   "metadata": {
    "collapsed": false
   },
   "outputs": [
    {
     "data": {
      "image/png": "[encoded data removed]",
      "text/plain": [
       "<matplotlib.figure.Figure at 0x7fdd812fb518>"
      ]
     },
     "metadata": {},
     "output_type": "display_data"
    }
   ],
   "source": [
    "data[\"YrsWoRemodel\"]=data[\"Yr Sold\"]-data[\"Year Remod/Add\"]\n",
    "\n",
    "%matplotlib inline\n",
    "plt.scatter(data[\"YrsWoRemodel\"],data[\"LogPrice\"])\n",
    "plt.show()"
   ]
  },
  {
   "cell_type": "code",
   "execution_count": 34,
   "metadata": {
    "collapsed": false
   },
   "outputs": [
    {
     "data": {
      "image/png": "[encoded data removed]",
      "text/plain": [
       "<matplotlib.figure.Figure at 0x7fdd8929a588>"
      ]
     },
     "metadata": {},
     "output_type": "display_data"
    }
   ],
   "source": [
    "data[\"MoSold\"] = data[\"Mo Sold\"]\n",
    "\n",
    "%matplotlib inline\n",
    "\n",
    "results = ols('LogPrice ~ C(MoSold)', data = data).fit()\n",
    "a=results.params\n",
    "a=a[1:]\n",
    "\n",
    "%matplotlib inline\n",
    "plt.bar((2,3,4,5,6,7,8,9,10,11,12) ,a)\n",
    "plt.show()"
   ]
  },
  {
   "cell_type": "markdown",
   "metadata": {
    "collapsed": false
   },
   "source": [
    "Include age and years since last remodel as numerical categories in the model:"
   ]
  },
  {
   "cell_type": "code",
   "execution_count": 35,
   "metadata": {
    "collapsed": false
   },
   "outputs": [],
   "source": [
    "def numerical_cols(data, cutoff):\n",
    "\n",
    "    '''Selects columns based on correlation coefficient cutoff'''\n",
    "    '''Will select any column with correlation to the target above the cuttoff'''\n",
    "    '''The function also fills mising values'''\n",
    "    '''Will return specified columns, but not include the target column'''\n",
    "    \n",
    "    #select columns that are numerical and make sense as such\n",
    "    nums = [\"Lot Area\",\n",
    "    \"Bsmt Unf SF\",\n",
    "    \"Total Bsmt SF\",\n",
    "    \"Mas Vnr Area\",\n",
    "    \"1st Flr SF\",\n",
    "    \"2nd Flr SF\",\n",
    "    \"Low Qual Fin SF\",\n",
    "    \"Gr Liv Area\",\n",
    "    \"Garage Area\",\n",
    "    \"Wood Deck SF\",\n",
    "    \"Open Porch SF\",\n",
    "    \"Enclosed Porch\",\n",
    "    \"3Ssn Porch\",\n",
    "    \"Screen Porch\",\n",
    "    \"Pool Area\",\n",
    "    \"Misc Val\",\n",
    "    \"YrsWoRemodel\",\n",
    "    \"AgeAtSale\",    \n",
    "    \"LogPrice\"]\n",
    "\n",
    "    num_cols = data[nums]\n",
    "\n",
    "    #impute missing data\n",
    "    num_cols = num_cols.fillna(num_cols.mean())\n",
    "\n",
    "    #Running correlations\n",
    "    corrs = num_cols.corr()\n",
    "    sorted_corrs = corrs[\"LogPrice\"].abs().sort_values(ascending = False)\n",
    "\n",
    "    lista = sorted_corrs[sorted_corrs>cutoff].index.tolist()\n",
    "    return num_cols[lista[1:]]\n"
   ]
  },
  {
   "cell_type": "code",
   "execution_count": 36,
   "metadata": {
    "collapsed": false
   },
   "outputs": [
    {
     "data": {
      "text/html": [
       "<div>\n",
       "<style scoped>\n",
       "    .dataframe tbody tr th:only-of-type {\n",
       "        vertical-align: middle;\n",
       "    }\n",
       "\n",
       "    .dataframe tbody tr th {\n",
       "        vertical-align: top;\n",
       "    }\n",
       "\n",
       "    .dataframe thead th {\n",
       "        text-align: right;\n",
       "    }\n",
       "</style>\n",
       "<table border=\"1\" class=\"dataframe\">\n",
       "  <thead>\n",
       "    <tr style=\"text-align: right;\">\n",
       "      <th></th>\n",
       "      <th>Gr Liv Area</th>\n",
       "      <th>1st Flr SF</th>\n",
       "      <th>Total Bsmt SF</th>\n",
       "      <th>AgeAtSale</th>\n",
       "      <th>Garage Area</th>\n",
       "      <th>YrsWoRemodel</th>\n",
       "    </tr>\n",
       "  </thead>\n",
       "  <tbody>\n",
       "    <tr>\n",
       "      <th>0</th>\n",
       "      <td>79.387960</td>\n",
       "      <td>79.387960</td>\n",
       "      <td>63.726707</td>\n",
       "      <td>50</td>\n",
       "      <td>43.956501</td>\n",
       "      <td>50</td>\n",
       "    </tr>\n",
       "    <tr>\n",
       "      <th>1</th>\n",
       "      <td>57.866518</td>\n",
       "      <td>57.866518</td>\n",
       "      <td>57.396970</td>\n",
       "      <td>49</td>\n",
       "      <td>52.037024</td>\n",
       "      <td>49</td>\n",
       "    </tr>\n",
       "    <tr>\n",
       "      <th>2</th>\n",
       "      <td>70.910905</td>\n",
       "      <td>70.910905</td>\n",
       "      <td>70.910905</td>\n",
       "      <td>52</td>\n",
       "      <td>33.327043</td>\n",
       "      <td>52</td>\n",
       "    </tr>\n",
       "    <tr>\n",
       "      <th>3</th>\n",
       "      <td>89.869473</td>\n",
       "      <td>89.869473</td>\n",
       "      <td>89.869473</td>\n",
       "      <td>42</td>\n",
       "      <td>43.694639</td>\n",
       "      <td>42</td>\n",
       "    </tr>\n",
       "    <tr>\n",
       "      <th>4</th>\n",
       "      <td>78.721744</td>\n",
       "      <td>58.926185</td>\n",
       "      <td>58.926185</td>\n",
       "      <td>13</td>\n",
       "      <td>41.908997</td>\n",
       "      <td>12</td>\n",
       "    </tr>\n",
       "    <tr>\n",
       "      <th>5</th>\n",
       "      <td>78.099938</td>\n",
       "      <td>58.860496</td>\n",
       "      <td>58.860496</td>\n",
       "      <td>12</td>\n",
       "      <td>41.358967</td>\n",
       "      <td>12</td>\n",
       "    </tr>\n",
       "    <tr>\n",
       "      <th>6</th>\n",
       "      <td>71.157365</td>\n",
       "      <td>71.157365</td>\n",
       "      <td>71.157365</td>\n",
       "      <td>9</td>\n",
       "      <td>46.249352</td>\n",
       "      <td>9</td>\n",
       "    </tr>\n",
       "    <tr>\n",
       "      <th>7</th>\n",
       "      <td>69.554175</td>\n",
       "      <td>69.554175</td>\n",
       "      <td>69.554175</td>\n",
       "      <td>18</td>\n",
       "      <td>42.988888</td>\n",
       "      <td>18</td>\n",
       "    </tr>\n",
       "    <tr>\n",
       "      <th>8</th>\n",
       "      <td>78.399005</td>\n",
       "      <td>78.399005</td>\n",
       "      <td>77.874902</td>\n",
       "      <td>15</td>\n",
       "      <td>47.315312</td>\n",
       "      <td>14</td>\n",
       "    </tr>\n",
       "    <tr>\n",
       "      <th>9</th>\n",
       "      <td>82.947042</td>\n",
       "      <td>62.124878</td>\n",
       "      <td>61.055531</td>\n",
       "      <td>11</td>\n",
       "      <td>40.047592</td>\n",
       "      <td>11</td>\n",
       "    </tr>\n",
       "    <tr>\n",
       "      <th>10</th>\n",
       "      <td>79.363382</td>\n",
       "      <td>53.244909</td>\n",
       "      <td>53.244909</td>\n",
       "      <td>17</td>\n",
       "      <td>39.952354</td>\n",
       "      <td>16</td>\n",
       "    </tr>\n",
       "    <tr>\n",
       "      <th>11</th>\n",
       "      <td>66.905733</td>\n",
       "      <td>66.905733</td>\n",
       "      <td>66.352030</td>\n",
       "      <td>18</td>\n",
       "      <td>38.987803</td>\n",
       "      <td>3</td>\n",
       "    </tr>\n",
       "    <tr>\n",
       "      <th>12</th>\n",
       "      <td>74.550637</td>\n",
       "      <td>54.178288</td>\n",
       "      <td>54.178288</td>\n",
       "      <td>12</td>\n",
       "      <td>37.648455</td>\n",
       "      <td>12</td>\n",
       "    </tr>\n",
       "    <tr>\n",
       "      <th>13</th>\n",
       "      <td>71.239334</td>\n",
       "      <td>71.239334</td>\n",
       "      <td>70.111026</td>\n",
       "      <td>20</td>\n",
       "      <td>42.988888</td>\n",
       "      <td>20</td>\n",
       "    </tr>\n",
       "    <tr>\n",
       "      <th>14</th>\n",
       "      <td>75.511290</td>\n",
       "      <td>75.511290</td>\n",
       "      <td>75.149206</td>\n",
       "      <td>25</td>\n",
       "      <td>43.956501</td>\n",
       "      <td>25</td>\n",
       "    </tr>\n",
       "    <tr>\n",
       "      <th>15</th>\n",
       "      <td>112.525106</td>\n",
       "      <td>80.219219</td>\n",
       "      <td>79.240384</td>\n",
       "      <td>7</td>\n",
       "      <td>56.000000</td>\n",
       "      <td>7</td>\n",
       "    </tr>\n",
       "    <tr>\n",
       "      <th>16</th>\n",
       "      <td>81.713798</td>\n",
       "      <td>63.726707</td>\n",
       "      <td>45.286362</td>\n",
       "      <td>22</td>\n",
       "      <td>42.362146</td>\n",
       "      <td>5</td>\n",
       "    </tr>\n",
       "    <tr>\n",
       "      <th>17</th>\n",
       "      <td>84.162637</td>\n",
       "      <td>84.162637</td>\n",
       "      <td>84.162637</td>\n",
       "      <td>0</td>\n",
       "      <td>55.758116</td>\n",
       "      <td>0</td>\n",
       "    </tr>\n",
       "    <tr>\n",
       "      <th>18</th>\n",
       "      <td>56.787754</td>\n",
       "      <td>56.787754</td>\n",
       "      <td>56.787754</td>\n",
       "      <td>59</td>\n",
       "      <td>38.000000</td>\n",
       "      <td>59</td>\n",
       "    </tr>\n",
       "    <tr>\n",
       "      <th>19</th>\n",
       "      <td>89.060420</td>\n",
       "      <td>89.060420</td>\n",
       "      <td>76.536616</td>\n",
       "      <td>32</td>\n",
       "      <td>42.721360</td>\n",
       "      <td>22</td>\n",
       "    </tr>\n",
       "    <tr>\n",
       "      <th>20</th>\n",
       "      <td>83.883642</td>\n",
       "      <td>83.883642</td>\n",
       "      <td>83.883642</td>\n",
       "      <td>33</td>\n",
       "      <td>44.733286</td>\n",
       "      <td>33</td>\n",
       "    </tr>\n",
       "    <tr>\n",
       "      <th>21</th>\n",
       "      <td>66.498175</td>\n",
       "      <td>66.498175</td>\n",
       "      <td>62.899923</td>\n",
       "      <td>36</td>\n",
       "      <td>43.956501</td>\n",
       "      <td>36</td>\n",
       "    </tr>\n",
       "    <tr>\n",
       "      <th>22</th>\n",
       "      <td>79.829090</td>\n",
       "      <td>55.061370</td>\n",
       "      <td>55.061370</td>\n",
       "      <td>10</td>\n",
       "      <td>49.497573</td>\n",
       "      <td>10</td>\n",
       "    </tr>\n",
       "    <tr>\n",
       "      <th>23</th>\n",
       "      <td>61.371918</td>\n",
       "      <td>61.371918</td>\n",
       "      <td>61.371918</td>\n",
       "      <td>40</td>\n",
       "      <td>41.817805</td>\n",
       "      <td>40</td>\n",
       "    </tr>\n",
       "    <tr>\n",
       "      <th>24</th>\n",
       "      <td>63.665821</td>\n",
       "      <td>63.665821</td>\n",
       "      <td>63.665821</td>\n",
       "      <td>39</td>\n",
       "      <td>42.721360</td>\n",
       "      <td>2</td>\n",
       "    </tr>\n",
       "    <tr>\n",
       "      <th>25</th>\n",
       "      <td>62.992307</td>\n",
       "      <td>62.992307</td>\n",
       "      <td>62.992307</td>\n",
       "      <td>42</td>\n",
       "      <td>32.871192</td>\n",
       "      <td>42</td>\n",
       "    </tr>\n",
       "    <tr>\n",
       "      <th>26</th>\n",
       "      <td>57.396970</td>\n",
       "      <td>57.396970</td>\n",
       "      <td>57.396970</td>\n",
       "      <td>40</td>\n",
       "      <td>43.825757</td>\n",
       "      <td>40</td>\n",
       "    </tr>\n",
       "    <tr>\n",
       "      <th>27</th>\n",
       "      <td>56.787754</td>\n",
       "      <td>56.787754</td>\n",
       "      <td>56.787754</td>\n",
       "      <td>39</td>\n",
       "      <td>-1.367544</td>\n",
       "      <td>39</td>\n",
       "    </tr>\n",
       "    <tr>\n",
       "      <th>28</th>\n",
       "      <td>71.130021</td>\n",
       "      <td>71.130021</td>\n",
       "      <td>72.966659</td>\n",
       "      <td>11</td>\n",
       "      <td>43.210618</td>\n",
       "      <td>11</td>\n",
       "    </tr>\n",
       "    <tr>\n",
       "      <th>29</th>\n",
       "      <td>60.833112</td>\n",
       "      <td>41.954522</td>\n",
       "      <td>41.954522</td>\n",
       "      <td>39</td>\n",
       "      <td>30.496154</td>\n",
       "      <td>39</td>\n",
       "    </tr>\n",
       "    <tr>\n",
       "      <th>...</th>\n",
       "      <td>...</td>\n",
       "      <td>...</td>\n",
       "      <td>...</td>\n",
       "      <td>...</td>\n",
       "      <td>...</td>\n",
       "      <td>...</td>\n",
       "    </tr>\n",
       "    <tr>\n",
       "      <th>2899</th>\n",
       "      <td>82.852814</td>\n",
       "      <td>82.852814</td>\n",
       "      <td>82.852814</td>\n",
       "      <td>4</td>\n",
       "      <td>53.317267</td>\n",
       "      <td>4</td>\n",
       "    </tr>\n",
       "    <tr>\n",
       "      <th>2900</th>\n",
       "      <td>86.543774</td>\n",
       "      <td>86.543774</td>\n",
       "      <td>81.138439</td>\n",
       "      <td>1</td>\n",
       "      <td>51.441557</td>\n",
       "      <td>0</td>\n",
       "    </tr>\n",
       "    <tr>\n",
       "      <th>2901</th>\n",
       "      <td>88.066642</td>\n",
       "      <td>88.066642</td>\n",
       "      <td>84.440731</td>\n",
       "      <td>1</td>\n",
       "      <td>57.329588</td>\n",
       "      <td>0</td>\n",
       "    </tr>\n",
       "    <tr>\n",
       "      <th>2902</th>\n",
       "      <td>83.743804</td>\n",
       "      <td>83.743804</td>\n",
       "      <td>83.743804</td>\n",
       "      <td>1</td>\n",
       "      <td>50.230259</td>\n",
       "      <td>0</td>\n",
       "    </tr>\n",
       "    <tr>\n",
       "      <th>2904</th>\n",
       "      <td>71.972968</td>\n",
       "      <td>71.972968</td>\n",
       "      <td>69.777434</td>\n",
       "      <td>9</td>\n",
       "      <td>54.000000</td>\n",
       "      <td>9</td>\n",
       "    </tr>\n",
       "    <tr>\n",
       "      <th>2905</th>\n",
       "      <td>67.742383</td>\n",
       "      <td>67.742383</td>\n",
       "      <td>67.742383</td>\n",
       "      <td>8</td>\n",
       "      <td>38.099875</td>\n",
       "      <td>8</td>\n",
       "    </tr>\n",
       "    <tr>\n",
       "      <th>2906</th>\n",
       "      <td>71.130021</td>\n",
       "      <td>71.130021</td>\n",
       "      <td>68.342022</td>\n",
       "      <td>8</td>\n",
       "      <td>38.249224</td>\n",
       "      <td>8</td>\n",
       "    </tr>\n",
       "    <tr>\n",
       "      <th>2907</th>\n",
       "      <td>65.527772</td>\n",
       "      <td>65.527772</td>\n",
       "      <td>65.527772</td>\n",
       "      <td>0</td>\n",
       "      <td>-1.367544</td>\n",
       "      <td>0</td>\n",
       "    </tr>\n",
       "    <tr>\n",
       "      <th>2908</th>\n",
       "      <td>70.221880</td>\n",
       "      <td>47.638695</td>\n",
       "      <td>30.496154</td>\n",
       "      <td>29</td>\n",
       "      <td>34.660606</td>\n",
       "      <td>29</td>\n",
       "    </tr>\n",
       "    <tr>\n",
       "      <th>2909</th>\n",
       "      <td>74.811457</td>\n",
       "      <td>58.827625</td>\n",
       "      <td>53.027266</td>\n",
       "      <td>29</td>\n",
       "      <td>34.660606</td>\n",
       "      <td>29</td>\n",
       "    </tr>\n",
       "    <tr>\n",
       "      <th>2910</th>\n",
       "      <td>98.419122</td>\n",
       "      <td>69.860977</td>\n",
       "      <td>59.384037</td>\n",
       "      <td>33</td>\n",
       "      <td>46.000000</td>\n",
       "      <td>33</td>\n",
       "    </tr>\n",
       "    <tr>\n",
       "      <th>2911</th>\n",
       "      <td>57.126982</td>\n",
       "      <td>57.126982</td>\n",
       "      <td>56.787754</td>\n",
       "      <td>38</td>\n",
       "      <td>31.941125</td>\n",
       "      <td>3</td>\n",
       "    </tr>\n",
       "    <tr>\n",
       "      <th>2912</th>\n",
       "      <td>79.289606</td>\n",
       "      <td>79.289606</td>\n",
       "      <td>79.289606</td>\n",
       "      <td>36</td>\n",
       "      <td>58.926185</td>\n",
       "      <td>36</td>\n",
       "    </tr>\n",
       "    <tr>\n",
       "      <th>2913</th>\n",
       "      <td>48.199602</td>\n",
       "      <td>48.199602</td>\n",
       "      <td>48.199602</td>\n",
       "      <td>36</td>\n",
       "      <td>-1.367544</td>\n",
       "      <td>36</td>\n",
       "    </tr>\n",
       "    <tr>\n",
       "      <th>2914</th>\n",
       "      <td>64.090847</td>\n",
       "      <td>44.733286</td>\n",
       "      <td>44.733286</td>\n",
       "      <td>34</td>\n",
       "      <td>29.811947</td>\n",
       "      <td>34</td>\n",
       "    </tr>\n",
       "    <tr>\n",
       "      <th>2915</th>\n",
       "      <td>71.756356</td>\n",
       "      <td>71.756356</td>\n",
       "      <td>64.452991</td>\n",
       "      <td>37</td>\n",
       "      <td>34.660606</td>\n",
       "      <td>27</td>\n",
       "    </tr>\n",
       "    <tr>\n",
       "      <th>2916</th>\n",
       "      <td>48.199602</td>\n",
       "      <td>48.199602</td>\n",
       "      <td>48.199602</td>\n",
       "      <td>36</td>\n",
       "      <td>-1.367544</td>\n",
       "      <td>36</td>\n",
       "    </tr>\n",
       "    <tr>\n",
       "      <th>2917</th>\n",
       "      <td>64.090847</td>\n",
       "      <td>44.733286</td>\n",
       "      <td>44.733286</td>\n",
       "      <td>36</td>\n",
       "      <td>31.823069</td>\n",
       "      <td>36</td>\n",
       "    </tr>\n",
       "    <tr>\n",
       "      <th>2918</th>\n",
       "      <td>64.090847</td>\n",
       "      <td>44.733286</td>\n",
       "      <td>44.733286</td>\n",
       "      <td>36</td>\n",
       "      <td>-1.367544</td>\n",
       "      <td>36</td>\n",
       "    </tr>\n",
       "    <tr>\n",
       "      <th>2919</th>\n",
       "      <td>64.090847</td>\n",
       "      <td>44.733286</td>\n",
       "      <td>44.733286</td>\n",
       "      <td>36</td>\n",
       "      <td>-1.367544</td>\n",
       "      <td>36</td>\n",
       "    </tr>\n",
       "    <tr>\n",
       "      <th>2920</th>\n",
       "      <td>64.090847</td>\n",
       "      <td>44.733286</td>\n",
       "      <td>44.733286</td>\n",
       "      <td>36</td>\n",
       "      <td>31.823069</td>\n",
       "      <td>36</td>\n",
       "    </tr>\n",
       "    <tr>\n",
       "      <th>2921</th>\n",
       "      <td>81.138439</td>\n",
       "      <td>81.138439</td>\n",
       "      <td>81.138439</td>\n",
       "      <td>30</td>\n",
       "      <td>45.916594</td>\n",
       "      <td>30</td>\n",
       "    </tr>\n",
       "    <tr>\n",
       "      <th>2922</th>\n",
       "      <td>81.138439</td>\n",
       "      <td>81.138439</td>\n",
       "      <td>81.138439</td>\n",
       "      <td>30</td>\n",
       "      <td>45.328638</td>\n",
       "      <td>30</td>\n",
       "    </tr>\n",
       "    <tr>\n",
       "      <th>2923</th>\n",
       "      <td>65.111847</td>\n",
       "      <td>65.111847</td>\n",
       "      <td>65.111847</td>\n",
       "      <td>29</td>\n",
       "      <td>42.000000</td>\n",
       "      <td>29</td>\n",
       "    </tr>\n",
       "    <tr>\n",
       "      <th>2924</th>\n",
       "      <td>67.971423</td>\n",
       "      <td>67.971423</td>\n",
       "      <td>67.971423</td>\n",
       "      <td>46</td>\n",
       "      <td>46.000000</td>\n",
       "      <td>10</td>\n",
       "    </tr>\n",
       "    <tr>\n",
       "      <th>2925</th>\n",
       "      <td>61.340350</td>\n",
       "      <td>61.340350</td>\n",
       "      <td>61.340350</td>\n",
       "      <td>22</td>\n",
       "      <td>46.497423</td>\n",
       "      <td>22</td>\n",
       "    </tr>\n",
       "    <tr>\n",
       "      <th>2926</th>\n",
       "      <td>58.066630</td>\n",
       "      <td>58.066630</td>\n",
       "      <td>56.787754</td>\n",
       "      <td>23</td>\n",
       "      <td>42.000000</td>\n",
       "      <td>23</td>\n",
       "    </tr>\n",
       "    <tr>\n",
       "      <th>2927</th>\n",
       "      <td>60.289646</td>\n",
       "      <td>60.289646</td>\n",
       "      <td>58.398675</td>\n",
       "      <td>14</td>\n",
       "      <td>-1.367544</td>\n",
       "      <td>14</td>\n",
       "    </tr>\n",
       "    <tr>\n",
       "      <th>2928</th>\n",
       "      <td>72.538581</td>\n",
       "      <td>72.538581</td>\n",
       "      <td>72.538581</td>\n",
       "      <td>32</td>\n",
       "      <td>38.890097</td>\n",
       "      <td>31</td>\n",
       "    </tr>\n",
       "    <tr>\n",
       "      <th>2929</th>\n",
       "      <td>87.442719</td>\n",
       "      <td>61.118935</td>\n",
       "      <td>61.118935</td>\n",
       "      <td>13</td>\n",
       "      <td>48.990195</td>\n",
       "      <td>12</td>\n",
       "    </tr>\n",
       "  </tbody>\n",
       "</table>\n",
       "<p>2822 rows × 6 columns</p>\n",
       "</div>"
      ],
      "text/plain": [
       "      Gr Liv Area  1st Flr SF  Total Bsmt SF  AgeAtSale  Garage Area  \\\n",
       "0       79.387960   79.387960      63.726707         50    43.956501   \n",
       "1       57.866518   57.866518      57.396970         49    52.037024   \n",
       "2       70.910905   70.910905      70.910905         52    33.327043   \n",
       "3       89.869473   89.869473      89.869473         42    43.694639   \n",
       "4       78.721744   58.926185      58.926185         13    41.908997   \n",
       "5       78.099938   58.860496      58.860496         12    41.358967   \n",
       "6       71.157365   71.157365      71.157365          9    46.249352   \n",
       "7       69.554175   69.554175      69.554175         18    42.988888   \n",
       "8       78.399005   78.399005      77.874902         15    47.315312   \n",
       "9       82.947042   62.124878      61.055531         11    40.047592   \n",
       "10      79.363382   53.244909      53.244909         17    39.952354   \n",
       "11      66.905733   66.905733      66.352030         18    38.987803   \n",
       "12      74.550637   54.178288      54.178288         12    37.648455   \n",
       "13      71.239334   71.239334      70.111026         20    42.988888   \n",
       "14      75.511290   75.511290      75.149206         25    43.956501   \n",
       "15     112.525106   80.219219      79.240384          7    56.000000   \n",
       "16      81.713798   63.726707      45.286362         22    42.362146   \n",
       "17      84.162637   84.162637      84.162637          0    55.758116   \n",
       "18      56.787754   56.787754      56.787754         59    38.000000   \n",
       "19      89.060420   89.060420      76.536616         32    42.721360   \n",
       "20      83.883642   83.883642      83.883642         33    44.733286   \n",
       "21      66.498175   66.498175      62.899923         36    43.956501   \n",
       "22      79.829090   55.061370      55.061370         10    49.497573   \n",
       "23      61.371918   61.371918      61.371918         40    41.817805   \n",
       "24      63.665821   63.665821      63.665821         39    42.721360   \n",
       "25      62.992307   62.992307      62.992307         42    32.871192   \n",
       "26      57.396970   57.396970      57.396970         40    43.825757   \n",
       "27      56.787754   56.787754      56.787754         39    -1.367544   \n",
       "28      71.130021   71.130021      72.966659         11    43.210618   \n",
       "29      60.833112   41.954522      41.954522         39    30.496154   \n",
       "...           ...         ...            ...        ...          ...   \n",
       "2899    82.852814   82.852814      82.852814          4    53.317267   \n",
       "2900    86.543774   86.543774      81.138439          1    51.441557   \n",
       "2901    88.066642   88.066642      84.440731          1    57.329588   \n",
       "2902    83.743804   83.743804      83.743804          1    50.230259   \n",
       "2904    71.972968   71.972968      69.777434          9    54.000000   \n",
       "2905    67.742383   67.742383      67.742383          8    38.099875   \n",
       "2906    71.130021   71.130021      68.342022          8    38.249224   \n",
       "2907    65.527772   65.527772      65.527772          0    -1.367544   \n",
       "2908    70.221880   47.638695      30.496154         29    34.660606   \n",
       "2909    74.811457   58.827625      53.027266         29    34.660606   \n",
       "2910    98.419122   69.860977      59.384037         33    46.000000   \n",
       "2911    57.126982   57.126982      56.787754         38    31.941125   \n",
       "2912    79.289606   79.289606      79.289606         36    58.926185   \n",
       "2913    48.199602   48.199602      48.199602         36    -1.367544   \n",
       "2914    64.090847   44.733286      44.733286         34    29.811947   \n",
       "2915    71.756356   71.756356      64.452991         37    34.660606   \n",
       "2916    48.199602   48.199602      48.199602         36    -1.367544   \n",
       "2917    64.090847   44.733286      44.733286         36    31.823069   \n",
       "2918    64.090847   44.733286      44.733286         36    -1.367544   \n",
       "2919    64.090847   44.733286      44.733286         36    -1.367544   \n",
       "2920    64.090847   44.733286      44.733286         36    31.823069   \n",
       "2921    81.138439   81.138439      81.138439         30    45.916594   \n",
       "2922    81.138439   81.138439      81.138439         30    45.328638   \n",
       "2923    65.111847   65.111847      65.111847         29    42.000000   \n",
       "2924    67.971423   67.971423      67.971423         46    46.000000   \n",
       "2925    61.340350   61.340350      61.340350         22    46.497423   \n",
       "2926    58.066630   58.066630      56.787754         23    42.000000   \n",
       "2927    60.289646   60.289646      58.398675         14    -1.367544   \n",
       "2928    72.538581   72.538581      72.538581         32    38.890097   \n",
       "2929    87.442719   61.118935      61.118935         13    48.990195   \n",
       "\n",
       "      YrsWoRemodel  \n",
       "0               50  \n",
       "1               49  \n",
       "2               52  \n",
       "3               42  \n",
       "4               12  \n",
       "5               12  \n",
       "6                9  \n",
       "7               18  \n",
       "8               14  \n",
       "9               11  \n",
       "10              16  \n",
       "11               3  \n",
       "12              12  \n",
       "13              20  \n",
       "14              25  \n",
       "15               7  \n",
       "16               5  \n",
       "17               0  \n",
       "18              59  \n",
       "19              22  \n",
       "20              33  \n",
       "21              36  \n",
       "22              10  \n",
       "23              40  \n",
       "24               2  \n",
       "25              42  \n",
       "26              40  \n",
       "27              39  \n",
       "28              11  \n",
       "29              39  \n",
       "...            ...  \n",
       "2899             4  \n",
       "2900             0  \n",
       "2901             0  \n",
       "2902             0  \n",
       "2904             9  \n",
       "2905             8  \n",
       "2906             8  \n",
       "2907             0  \n",
       "2908            29  \n",
       "2909            29  \n",
       "2910            33  \n",
       "2911             3  \n",
       "2912            36  \n",
       "2913            36  \n",
       "2914            34  \n",
       "2915            27  \n",
       "2916            36  \n",
       "2917            36  \n",
       "2918            36  \n",
       "2919            36  \n",
       "2920            36  \n",
       "2921            30  \n",
       "2922            30  \n",
       "2923            29  \n",
       "2924            10  \n",
       "2925            22  \n",
       "2926            23  \n",
       "2927            14  \n",
       "2928            31  \n",
       "2929            12  \n",
       "\n",
       "[2822 rows x 6 columns]"
      ]
     },
     "execution_count": 36,
     "metadata": {},
     "output_type": "execute_result"
    }
   ],
   "source": [
    "numerical_cols(data, 0.5)"
   ]
  },
  {
   "cell_type": "code",
   "execution_count": 37,
   "metadata": {
    "collapsed": false
   },
   "outputs": [
    {
     "data": {
      "text/plain": [
       "0.14679310178665012"
      ]
     },
     "execution_count": 37,
     "metadata": {},
     "output_type": "execute_result"
    }
   ],
   "source": [
    "all_cols = pd.concat([categorical_cols, numerical_cols(data, 0.5)], axis = 1)\n",
    "d2=data[[\"LogPrice\"]]\n",
    "\n",
    "cross_validation(all_cols, d2)"
   ]
  },
  {
   "cell_type": "markdown",
   "metadata": {},
   "source": [
    "------"
   ]
  },
  {
   "cell_type": "markdown",
   "metadata": {},
   "source": [
    "So far the RMSE is $30,381"
   ]
  },
  {
   "cell_type": "code",
   "execution_count": 38,
   "metadata": {
    "collapsed": false
   },
   "outputs": [
    {
     "data": {
      "image/png": "[encoded data removed]",
      "text/plain": [
       "<matplotlib.figure.Figure at 0x7fdd8812a780>"
      ]
     },
     "metadata": {},
     "output_type": "display_data"
    }
   ],
   "source": [
    "lr = LinearRegression()\n",
    "\n",
    "x = all_cols\n",
    "y= d2\n",
    "\n",
    "lr.fit(x,y)\n",
    "predictions = lr.predict(x)\n",
    "\n",
    "%matplotlib inline\n",
    "predictions = np.exp(predictions)\n",
    "y = data[\"SalePrice\"]\n",
    "plt.scatter(predictions,y)\n",
    "plt.xlabel(\"Predicted Values\")\n",
    "plt.ylabel(\"Actual Values\")\n",
    "plt.show()"
   ]
  },
  {
   "cell_type": "markdown",
   "metadata": {},
   "source": [
    "________\n"
   ]
  },
  {
   "cell_type": "code",
   "execution_count": 39,
   "metadata": {
    "collapsed": false
   },
   "outputs": [
    {
     "data": {
      "text/plain": [
       "30013.25513732033"
      ]
     },
     "execution_count": 39,
     "metadata": {},
     "output_type": "execute_result"
    }
   ],
   "source": [
    "from sklearn import metrics\n",
    "np.sqrt(metrics.mean_squared_error(y,predictions))"
   ]
  }
 ],
 "metadata": {
  "anaconda-cloud": {},
  "kernelspec": {
   "display_name": "Python 3",
   "language": "python",
   "name": "python3"
  },
  "language_info": {
   "codemirror_mode": {
    "name": "ipython",
    "version": 3
   },
   "file_extension": ".py",
   "mimetype": "text/x-python",
   "name": "python",
   "nbconvert_exporter": "python",
   "pygments_lexer": "ipython3",
   "version": "3.4.3"
  }
 },
 "nbformat": 4,
 "nbformat_minor": 2
}
